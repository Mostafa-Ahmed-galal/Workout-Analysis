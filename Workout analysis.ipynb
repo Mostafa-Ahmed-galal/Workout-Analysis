{
 "cells": [
  {
   "cell_type": "markdown",
   "id": "d1d79f19",
   "metadata": {},
   "source": [
    "### 1- FINDING THE HIGHEST INTEREST MONTH WORLDWIDE"
   ]
  },
  {
   "cell_type": "code",
   "execution_count": 1,
   "id": "8b097734",
   "metadata": {},
   "outputs": [],
   "source": [
    "#  Assess global interest in fitness"
   ]
  },
  {
   "cell_type": "code",
   "execution_count": 124,
   "id": "b877cb09",
   "metadata": {},
   "outputs": [],
   "source": [
    "import pandas as pd\n",
    "import seaborn as sns\n",
    "import matplotlib.pyplot as plt"
   ]
  },
  {
   "cell_type": "code",
   "execution_count": 135,
   "id": "07e2c102",
   "metadata": {},
   "outputs": [
    {
     "data": {
      "text/html": [
       "<div>\n",
       "<style scoped>\n",
       "    .dataframe tbody tr th:only-of-type {\n",
       "        vertical-align: middle;\n",
       "    }\n",
       "\n",
       "    .dataframe tbody tr th {\n",
       "        vertical-align: top;\n",
       "    }\n",
       "\n",
       "    .dataframe thead th {\n",
       "        text-align: right;\n",
       "    }\n",
       "</style>\n",
       "<table border=\"1\" class=\"dataframe\">\n",
       "  <thead>\n",
       "    <tr style=\"text-align: right;\">\n",
       "      <th></th>\n",
       "      <th>Week</th>\n",
       "      <th>workout: (Worldwide)</th>\n",
       "    </tr>\n",
       "  </thead>\n",
       "  <tbody>\n",
       "    <tr>\n",
       "      <th>0</th>\n",
       "      <td>2018-03-18</td>\n",
       "      <td>59</td>\n",
       "    </tr>\n",
       "    <tr>\n",
       "      <th>1</th>\n",
       "      <td>2018-03-25</td>\n",
       "      <td>58</td>\n",
       "    </tr>\n",
       "    <tr>\n",
       "      <th>2</th>\n",
       "      <td>2018-04-01</td>\n",
       "      <td>61</td>\n",
       "    </tr>\n",
       "    <tr>\n",
       "      <th>3</th>\n",
       "      <td>2018-04-08</td>\n",
       "      <td>57</td>\n",
       "    </tr>\n",
       "    <tr>\n",
       "      <th>4</th>\n",
       "      <td>2018-04-15</td>\n",
       "      <td>59</td>\n",
       "    </tr>\n",
       "  </tbody>\n",
       "</table>\n",
       "</div>"
      ],
      "text/plain": [
       "         Week  workout: (Worldwide)\n",
       "0  2018-03-18                    59\n",
       "1  2018-03-25                    58\n",
       "2  2018-04-01                    61\n",
       "3  2018-04-08                    57\n",
       "4  2018-04-15                    59"
      ]
     },
     "execution_count": 135,
     "metadata": {},
     "output_type": "execute_result"
    }
   ],
   "source": [
    "workout = pd.read_csv('./workout/workout.csv', header=1)\n",
    "workout.head()"
   ]
  },
  {
   "cell_type": "code",
   "execution_count": 136,
   "id": "273790fe",
   "metadata": {},
   "outputs": [
    {
     "data": {
      "text/html": [
       "<div>\n",
       "<style scoped>\n",
       "    .dataframe tbody tr th:only-of-type {\n",
       "        vertical-align: middle;\n",
       "    }\n",
       "\n",
       "    .dataframe tbody tr th {\n",
       "        vertical-align: top;\n",
       "    }\n",
       "\n",
       "    .dataframe thead th {\n",
       "        text-align: right;\n",
       "    }\n",
       "</style>\n",
       "<table border=\"1\" class=\"dataframe\">\n",
       "  <thead>\n",
       "    <tr style=\"text-align: right;\">\n",
       "      <th></th>\n",
       "      <th>Week</th>\n",
       "      <th>level_1</th>\n",
       "      <th>0</th>\n",
       "    </tr>\n",
       "  </thead>\n",
       "  <tbody>\n",
       "    <tr>\n",
       "      <th>0</th>\n",
       "      <td>2018-03-18</td>\n",
       "      <td>workout: (Worldwide)</td>\n",
       "      <td>59</td>\n",
       "    </tr>\n",
       "    <tr>\n",
       "      <th>1</th>\n",
       "      <td>2018-03-25</td>\n",
       "      <td>workout: (Worldwide)</td>\n",
       "      <td>58</td>\n",
       "    </tr>\n",
       "    <tr>\n",
       "      <th>2</th>\n",
       "      <td>2018-04-01</td>\n",
       "      <td>workout: (Worldwide)</td>\n",
       "      <td>61</td>\n",
       "    </tr>\n",
       "    <tr>\n",
       "      <th>3</th>\n",
       "      <td>2018-04-08</td>\n",
       "      <td>workout: (Worldwide)</td>\n",
       "      <td>57</td>\n",
       "    </tr>\n",
       "    <tr>\n",
       "      <th>4</th>\n",
       "      <td>2018-04-15</td>\n",
       "      <td>workout: (Worldwide)</td>\n",
       "      <td>59</td>\n",
       "    </tr>\n",
       "  </tbody>\n",
       "</table>\n",
       "</div>"
      ],
      "text/plain": [
       "         Week               level_1   0\n",
       "0  2018-03-18  workout: (Worldwide)  59\n",
       "1  2018-03-25  workout: (Worldwide)  58\n",
       "2  2018-04-01  workout: (Worldwide)  61\n",
       "3  2018-04-08  workout: (Worldwide)  57\n",
       "4  2018-04-15  workout: (Worldwide)  59"
      ]
     },
     "execution_count": 136,
     "metadata": {},
     "output_type": "execute_result"
    }
   ],
   "source": [
    "workout = workout.set_index('Week').stack().reset_index()\n",
    "workout.head()"
   ]
  },
  {
   "cell_type": "code",
   "execution_count": 137,
   "id": "8c7a297d",
   "metadata": {},
   "outputs": [
    {
     "data": {
      "text/html": [
       "<div>\n",
       "<style scoped>\n",
       "    .dataframe tbody tr th:only-of-type {\n",
       "        vertical-align: middle;\n",
       "    }\n",
       "\n",
       "    .dataframe tbody tr th {\n",
       "        vertical-align: top;\n",
       "    }\n",
       "\n",
       "    .dataframe thead th {\n",
       "        text-align: right;\n",
       "    }\n",
       "</style>\n",
       "<table border=\"1\" class=\"dataframe\">\n",
       "  <thead>\n",
       "    <tr style=\"text-align: right;\">\n",
       "      <th></th>\n",
       "      <th>week</th>\n",
       "      <th>region</th>\n",
       "      <th>interest</th>\n",
       "    </tr>\n",
       "  </thead>\n",
       "  <tbody>\n",
       "    <tr>\n",
       "      <th>0</th>\n",
       "      <td>2018-03-18</td>\n",
       "      <td>workout: (Worldwide)</td>\n",
       "      <td>59</td>\n",
       "    </tr>\n",
       "    <tr>\n",
       "      <th>1</th>\n",
       "      <td>2018-03-25</td>\n",
       "      <td>workout: (Worldwide)</td>\n",
       "      <td>58</td>\n",
       "    </tr>\n",
       "    <tr>\n",
       "      <th>2</th>\n",
       "      <td>2018-04-01</td>\n",
       "      <td>workout: (Worldwide)</td>\n",
       "      <td>61</td>\n",
       "    </tr>\n",
       "    <tr>\n",
       "      <th>3</th>\n",
       "      <td>2018-04-08</td>\n",
       "      <td>workout: (Worldwide)</td>\n",
       "      <td>57</td>\n",
       "    </tr>\n",
       "    <tr>\n",
       "      <th>4</th>\n",
       "      <td>2018-04-15</td>\n",
       "      <td>workout: (Worldwide)</td>\n",
       "      <td>59</td>\n",
       "    </tr>\n",
       "  </tbody>\n",
       "</table>\n",
       "</div>"
      ],
      "text/plain": [
       "         week                region  interest\n",
       "0  2018-03-18  workout: (Worldwide)        59\n",
       "1  2018-03-25  workout: (Worldwide)        58\n",
       "2  2018-04-01  workout: (Worldwide)        61\n",
       "3  2018-04-08  workout: (Worldwide)        57\n",
       "4  2018-04-15  workout: (Worldwide)        59"
      ]
     },
     "execution_count": 137,
     "metadata": {},
     "output_type": "execute_result"
    }
   ],
   "source": [
    "workout.columns = ['week','region','interest']\n",
    "workout.head()"
   ]
  },
  {
   "cell_type": "code",
   "execution_count": 138,
   "id": "fa6d0784",
   "metadata": {},
   "outputs": [
    {
     "data": {
      "text/plain": [
       "week        0\n",
       "region      0\n",
       "interest    0\n",
       "dtype: int64"
      ]
     },
     "execution_count": 138,
     "metadata": {},
     "output_type": "execute_result"
    }
   ],
   "source": [
    "workout.isnull().sum()"
   ]
  },
  {
   "cell_type": "code",
   "execution_count": 140,
   "id": "7d46ad3e",
   "metadata": {},
   "outputs": [],
   "source": [
    "workout['week'] = pd.to_datetime(workout['week'])"
   ]
  },
  {
   "cell_type": "code",
   "execution_count": 141,
   "id": "37a71994",
   "metadata": {},
   "outputs": [
    {
     "data": {
      "image/png": "[encoded data removed]",
      "text/plain": [
       "<Figure size 1000x600 with 1 Axes>"
      ]
     },
     "metadata": {},
     "output_type": "display_data"
    }
   ],
   "source": [
    "plt.figure(figsize=(10,6))\n",
    "sns.lineplot(data = workout, x = 'week', y = 'interest', hue = 'region')\n",
    "plt.title('Weekly interest over the years')\n",
    "plt.show()\n"
   ]
  },
  {
   "cell_type": "markdown",
   "id": "943c9a45",
   "metadata": {},
   "source": [
    "###### we find that the interest per week is seasonal worldwide"
   ]
  },
  {
   "cell_type": "code",
   "execution_count": null,
   "id": "909c2cb8",
   "metadata": {},
   "outputs": [],
   "source": []
  },
  {
   "cell_type": "code",
   "execution_count": 146,
   "id": "0364a205",
   "metadata": {},
   "outputs": [
    {
     "data": {
      "text/html": [
       "<div>\n",
       "<style scoped>\n",
       "    .dataframe tbody tr th:only-of-type {\n",
       "        vertical-align: middle;\n",
       "    }\n",
       "\n",
       "    .dataframe tbody tr th {\n",
       "        vertical-align: top;\n",
       "    }\n",
       "\n",
       "    .dataframe thead th {\n",
       "        text-align: right;\n",
       "    }\n",
       "</style>\n",
       "<table border=\"1\" class=\"dataframe\">\n",
       "  <thead>\n",
       "    <tr style=\"text-align: right;\">\n",
       "      <th></th>\n",
       "      <th>week</th>\n",
       "      <th>region</th>\n",
       "      <th>interest</th>\n",
       "      <th>month</th>\n",
       "    </tr>\n",
       "  </thead>\n",
       "  <tbody>\n",
       "    <tr>\n",
       "      <th>0</th>\n",
       "      <td>2018-03-18</td>\n",
       "      <td>workout: (Worldwide)</td>\n",
       "      <td>59</td>\n",
       "      <td>3</td>\n",
       "    </tr>\n",
       "    <tr>\n",
       "      <th>1</th>\n",
       "      <td>2018-03-25</td>\n",
       "      <td>workout: (Worldwide)</td>\n",
       "      <td>58</td>\n",
       "      <td>3</td>\n",
       "    </tr>\n",
       "    <tr>\n",
       "      <th>2</th>\n",
       "      <td>2018-04-01</td>\n",
       "      <td>workout: (Worldwide)</td>\n",
       "      <td>61</td>\n",
       "      <td>4</td>\n",
       "    </tr>\n",
       "    <tr>\n",
       "      <th>3</th>\n",
       "      <td>2018-04-08</td>\n",
       "      <td>workout: (Worldwide)</td>\n",
       "      <td>57</td>\n",
       "      <td>4</td>\n",
       "    </tr>\n",
       "    <tr>\n",
       "      <th>4</th>\n",
       "      <td>2018-04-15</td>\n",
       "      <td>workout: (Worldwide)</td>\n",
       "      <td>59</td>\n",
       "      <td>4</td>\n",
       "    </tr>\n",
       "  </tbody>\n",
       "</table>\n",
       "</div>"
      ],
      "text/plain": [
       "        week                region  interest  month\n",
       "0 2018-03-18  workout: (Worldwide)        59      3\n",
       "1 2018-03-25  workout: (Worldwide)        58      3\n",
       "2 2018-04-01  workout: (Worldwide)        61      4\n",
       "3 2018-04-08  workout: (Worldwide)        57      4\n",
       "4 2018-04-15  workout: (Worldwide)        59      4"
      ]
     },
     "execution_count": 146,
     "metadata": {},
     "output_type": "execute_result"
    }
   ],
   "source": [
    "workout.head()"
   ]
  },
  {
   "cell_type": "code",
   "execution_count": 147,
   "id": "ff11f2de",
   "metadata": {},
   "outputs": [],
   "source": [
    "workout['month']= workout['week'].dt.month "
   ]
  },
  {
   "cell_type": "code",
   "execution_count": 148,
   "id": "63d73fbd",
   "metadata": {},
   "outputs": [
    {
     "data": {
      "text/html": [
       "<div>\n",
       "<style scoped>\n",
       "    .dataframe tbody tr th:only-of-type {\n",
       "        vertical-align: middle;\n",
       "    }\n",
       "\n",
       "    .dataframe tbody tr th {\n",
       "        vertical-align: top;\n",
       "    }\n",
       "\n",
       "    .dataframe thead th {\n",
       "        text-align: right;\n",
       "    }\n",
       "</style>\n",
       "<table border=\"1\" class=\"dataframe\">\n",
       "  <thead>\n",
       "    <tr style=\"text-align: right;\">\n",
       "      <th></th>\n",
       "      <th>week</th>\n",
       "      <th>region</th>\n",
       "      <th>interest</th>\n",
       "      <th>month</th>\n",
       "    </tr>\n",
       "  </thead>\n",
       "  <tbody>\n",
       "    <tr>\n",
       "      <th>0</th>\n",
       "      <td>2018-03-18</td>\n",
       "      <td>workout: (Worldwide)</td>\n",
       "      <td>59</td>\n",
       "      <td>3</td>\n",
       "    </tr>\n",
       "    <tr>\n",
       "      <th>1</th>\n",
       "      <td>2018-03-25</td>\n",
       "      <td>workout: (Worldwide)</td>\n",
       "      <td>58</td>\n",
       "      <td>3</td>\n",
       "    </tr>\n",
       "    <tr>\n",
       "      <th>2</th>\n",
       "      <td>2018-04-01</td>\n",
       "      <td>workout: (Worldwide)</td>\n",
       "      <td>61</td>\n",
       "      <td>4</td>\n",
       "    </tr>\n",
       "    <tr>\n",
       "      <th>3</th>\n",
       "      <td>2018-04-08</td>\n",
       "      <td>workout: (Worldwide)</td>\n",
       "      <td>57</td>\n",
       "      <td>4</td>\n",
       "    </tr>\n",
       "    <tr>\n",
       "      <th>4</th>\n",
       "      <td>2018-04-15</td>\n",
       "      <td>workout: (Worldwide)</td>\n",
       "      <td>59</td>\n",
       "      <td>4</td>\n",
       "    </tr>\n",
       "  </tbody>\n",
       "</table>\n",
       "</div>"
      ],
      "text/plain": [
       "        week                region  interest  month\n",
       "0 2018-03-18  workout: (Worldwide)        59      3\n",
       "1 2018-03-25  workout: (Worldwide)        58      3\n",
       "2 2018-04-01  workout: (Worldwide)        61      4\n",
       "3 2018-04-08  workout: (Worldwide)        57      4\n",
       "4 2018-04-15  workout: (Worldwide)        59      4"
      ]
     },
     "execution_count": 148,
     "metadata": {},
     "output_type": "execute_result"
    }
   ],
   "source": [
    "workout.head()"
   ]
  },
  {
   "cell_type": "code",
   "execution_count": 149,
   "id": "d8466679",
   "metadata": {},
   "outputs": [
    {
     "data": {
      "text/html": [
       "<div>\n",
       "<style scoped>\n",
       "    .dataframe tbody tr th:only-of-type {\n",
       "        vertical-align: middle;\n",
       "    }\n",
       "\n",
       "    .dataframe tbody tr th {\n",
       "        vertical-align: top;\n",
       "    }\n",
       "\n",
       "    .dataframe thead th {\n",
       "        text-align: right;\n",
       "    }\n",
       "</style>\n",
       "<table border=\"1\" class=\"dataframe\">\n",
       "  <thead>\n",
       "    <tr style=\"text-align: right;\">\n",
       "      <th></th>\n",
       "      <th>month</th>\n",
       "      <th>interest</th>\n",
       "    </tr>\n",
       "  </thead>\n",
       "  <tbody>\n",
       "    <tr>\n",
       "      <th>0</th>\n",
       "      <td>1</td>\n",
       "      <td>1442</td>\n",
       "    </tr>\n",
       "    <tr>\n",
       "      <th>1</th>\n",
       "      <td>5</td>\n",
       "      <td>1384</td>\n",
       "    </tr>\n",
       "    <tr>\n",
       "      <th>2</th>\n",
       "      <td>3</td>\n",
       "      <td>1334</td>\n",
       "    </tr>\n",
       "    <tr>\n",
       "      <th>3</th>\n",
       "      <td>4</td>\n",
       "      <td>1323</td>\n",
       "    </tr>\n",
       "    <tr>\n",
       "      <th>4</th>\n",
       "      <td>7</td>\n",
       "      <td>1267</td>\n",
       "    </tr>\n",
       "    <tr>\n",
       "      <th>5</th>\n",
       "      <td>6</td>\n",
       "      <td>1240</td>\n",
       "    </tr>\n",
       "    <tr>\n",
       "      <th>6</th>\n",
       "      <td>8</td>\n",
       "      <td>1208</td>\n",
       "    </tr>\n",
       "    <tr>\n",
       "      <th>7</th>\n",
       "      <td>2</td>\n",
       "      <td>1169</td>\n",
       "    </tr>\n",
       "    <tr>\n",
       "      <th>8</th>\n",
       "      <td>9</td>\n",
       "      <td>1111</td>\n",
       "    </tr>\n",
       "    <tr>\n",
       "      <th>9</th>\n",
       "      <td>12</td>\n",
       "      <td>1071</td>\n",
       "    </tr>\n",
       "    <tr>\n",
       "      <th>10</th>\n",
       "      <td>10</td>\n",
       "      <td>1056</td>\n",
       "    </tr>\n",
       "    <tr>\n",
       "      <th>11</th>\n",
       "      <td>11</td>\n",
       "      <td>1013</td>\n",
       "    </tr>\n",
       "  </tbody>\n",
       "</table>\n",
       "</div>"
      ],
      "text/plain": [
       "    month  interest\n",
       "0       1      1442\n",
       "1       5      1384\n",
       "2       3      1334\n",
       "3       4      1323\n",
       "4       7      1267\n",
       "5       6      1240\n",
       "6       8      1208\n",
       "7       2      1169\n",
       "8       9      1111\n",
       "9      12      1071\n",
       "10     10      1056\n",
       "11     11      1013"
      ]
     },
     "execution_count": 149,
     "metadata": {},
     "output_type": "execute_result"
    }
   ],
   "source": [
    "month_interest = workout.groupby('month')['interest'].sum().\\\n",
    "                                                        sort_values(ascending = False).reset_index()\n",
    "month_interest"
   ]
  },
  {
   "cell_type": "code",
   "execution_count": 150,
   "id": "2197fe58",
   "metadata": {},
   "outputs": [
    {
     "data": {
      "image/png": "[encoded data removed]",
      "text/plain": [
       "<Figure size 1000x600 with 1 Axes>"
      ]
     },
     "metadata": {},
     "output_type": "display_data"
    }
   ],
   "source": [
    "plt.figure(figsize = (10,6))\n",
    "sns.lineplot(data = workout, x = month_interest['month'], y = month_interest['interest']\\\n",
    "             , color = '#108A99')\n",
    "plt.title('Monthly interest World wide')\n",
    "plt.show()"
   ]
  },
  {
   "cell_type": "code",
   "execution_count": 151,
   "id": "61f3cccd",
   "metadata": {},
   "outputs": [
    {
     "data": {
      "text/plain": [
       "1"
      ]
     },
     "execution_count": 151,
     "metadata": {},
     "output_type": "execute_result"
    }
   ],
   "source": [
    "highest_month_interest = month_interest[month_interest['interest'] == month_interest['interest'].max()]\n",
    "highest_month_interest= highest_month_interest['month'].values[0]\n",
    "highest_month_interest"
   ]
  },
  {
   "cell_type": "markdown",
   "id": "3106b7ba",
   "metadata": {},
   "source": [
    "###### we find that the highest interest month worldwide is January"
   ]
  },
  {
   "cell_type": "code",
   "execution_count": null,
   "id": "97bfcddd",
   "metadata": {},
   "outputs": [],
   "source": []
  },
  {
   "cell_type": "markdown",
   "id": "54caaaca",
   "metadata": {},
   "source": [
    "#### 2- FINDING THE HIGHEST REGION INTEREST WORLDWIDE (FOR SPECIFIC YEARS)"
   ]
  },
  {
   "cell_type": "code",
   "execution_count": 152,
   "id": "8825ff5a",
   "metadata": {},
   "outputs": [],
   "source": [
    "# Compare interest in home workouts, gym workouts and home gyms"
   ]
  },
  {
   "cell_type": "code",
   "execution_count": 153,
   "id": "da8ab9ac",
   "metadata": {},
   "outputs": [
    {
     "data": {
      "text/html": [
       "<div>\n",
       "<style scoped>\n",
       "    .dataframe tbody tr th:only-of-type {\n",
       "        vertical-align: middle;\n",
       "    }\n",
       "\n",
       "    .dataframe tbody tr th {\n",
       "        vertical-align: top;\n",
       "    }\n",
       "\n",
       "    .dataframe thead th {\n",
       "        text-align: right;\n",
       "    }\n",
       "</style>\n",
       "<table border=\"1\" class=\"dataframe\">\n",
       "  <thead>\n",
       "    <tr style=\"text-align: right;\">\n",
       "      <th></th>\n",
       "      <th>Week</th>\n",
       "      <th>home workout: (Worldwide)</th>\n",
       "      <th>gym workout: (Worldwide)</th>\n",
       "      <th>home gym: (Worldwide)</th>\n",
       "    </tr>\n",
       "  </thead>\n",
       "  <tbody>\n",
       "    <tr>\n",
       "      <th>0</th>\n",
       "      <td>2018-03-18</td>\n",
       "      <td>12</td>\n",
       "      <td>16</td>\n",
       "      <td>10</td>\n",
       "    </tr>\n",
       "    <tr>\n",
       "      <th>1</th>\n",
       "      <td>2018-03-25</td>\n",
       "      <td>13</td>\n",
       "      <td>17</td>\n",
       "      <td>10</td>\n",
       "    </tr>\n",
       "    <tr>\n",
       "      <th>2</th>\n",
       "      <td>2018-04-01</td>\n",
       "      <td>12</td>\n",
       "      <td>18</td>\n",
       "      <td>10</td>\n",
       "    </tr>\n",
       "    <tr>\n",
       "      <th>3</th>\n",
       "      <td>2018-04-08</td>\n",
       "      <td>12</td>\n",
       "      <td>18</td>\n",
       "      <td>9</td>\n",
       "    </tr>\n",
       "    <tr>\n",
       "      <th>4</th>\n",
       "      <td>2018-04-15</td>\n",
       "      <td>12</td>\n",
       "      <td>16</td>\n",
       "      <td>9</td>\n",
       "    </tr>\n",
       "    <tr>\n",
       "      <th>...</th>\n",
       "      <td>...</td>\n",
       "      <td>...</td>\n",
       "      <td>...</td>\n",
       "      <td>...</td>\n",
       "    </tr>\n",
       "    <tr>\n",
       "      <th>256</th>\n",
       "      <td>2023-02-12</td>\n",
       "      <td>12</td>\n",
       "      <td>19</td>\n",
       "      <td>11</td>\n",
       "    </tr>\n",
       "    <tr>\n",
       "      <th>257</th>\n",
       "      <td>2023-02-19</td>\n",
       "      <td>14</td>\n",
       "      <td>20</td>\n",
       "      <td>13</td>\n",
       "    </tr>\n",
       "    <tr>\n",
       "      <th>258</th>\n",
       "      <td>2023-02-26</td>\n",
       "      <td>13</td>\n",
       "      <td>19</td>\n",
       "      <td>12</td>\n",
       "    </tr>\n",
       "    <tr>\n",
       "      <th>259</th>\n",
       "      <td>2023-03-05</td>\n",
       "      <td>13</td>\n",
       "      <td>19</td>\n",
       "      <td>12</td>\n",
       "    </tr>\n",
       "    <tr>\n",
       "      <th>260</th>\n",
       "      <td>2023-03-12</td>\n",
       "      <td>14</td>\n",
       "      <td>18</td>\n",
       "      <td>13</td>\n",
       "    </tr>\n",
       "  </tbody>\n",
       "</table>\n",
       "<p>261 rows × 4 columns</p>\n",
       "</div>"
      ],
      "text/plain": [
       "           Week  home workout: (Worldwide)  gym workout: (Worldwide)  \\\n",
       "0    2018-03-18                         12                        16   \n",
       "1    2018-03-25                         13                        17   \n",
       "2    2018-04-01                         12                        18   \n",
       "3    2018-04-08                         12                        18   \n",
       "4    2018-04-15                         12                        16   \n",
       "..          ...                        ...                       ...   \n",
       "256  2023-02-12                         12                        19   \n",
       "257  2023-02-19                         14                        20   \n",
       "258  2023-02-26                         13                        19   \n",
       "259  2023-03-05                         13                        19   \n",
       "260  2023-03-12                         14                        18   \n",
       "\n",
       "     home gym: (Worldwide)  \n",
       "0                       10  \n",
       "1                       10  \n",
       "2                       10  \n",
       "3                        9  \n",
       "4                        9  \n",
       "..                     ...  \n",
       "256                     11  \n",
       "257                     13  \n",
       "258                     12  \n",
       "259                     12  \n",
       "260                     13  \n",
       "\n",
       "[261 rows x 4 columns]"
      ]
     },
     "execution_count": 153,
     "metadata": {},
     "output_type": "execute_result"
    }
   ],
   "source": [
    "df = pd.read_csv('./workout/three_keywords.csv' ,header = 1)\n",
    "df"
   ]
  },
  {
   "cell_type": "code",
   "execution_count": 154,
   "id": "e95cda30",
   "metadata": {},
   "outputs": [],
   "source": [
    "df = df.set_index('Week').stack().reset_index()\n",
    "df.columns = ['week','region','interest']"
   ]
  },
  {
   "cell_type": "code",
   "execution_count": 155,
   "id": "650cd3b9",
   "metadata": {},
   "outputs": [],
   "source": [
    "df['week'] = pd.to_datetime(df['week'])"
   ]
  },
  {
   "cell_type": "code",
   "execution_count": 157,
   "id": "856ac202",
   "metadata": {},
   "outputs": [],
   "source": [
    "# filtering for the years 2022 and 2023 only\n",
    "df_22_23= df[(df['week'].dt.year >= 2022) & (df['week'].dt.year <= 2023)]"
   ]
  },
  {
   "cell_type": "code",
   "execution_count": 158,
   "id": "49e4d538",
   "metadata": {},
   "outputs": [
    {
     "data": {
      "text/html": [
       "<div>\n",
       "<style scoped>\n",
       "    .dataframe tbody tr th:only-of-type {\n",
       "        vertical-align: middle;\n",
       "    }\n",
       "\n",
       "    .dataframe tbody tr th {\n",
       "        vertical-align: top;\n",
       "    }\n",
       "\n",
       "    .dataframe thead th {\n",
       "        text-align: right;\n",
       "    }\n",
       "</style>\n",
       "<table border=\"1\" class=\"dataframe\">\n",
       "  <thead>\n",
       "    <tr style=\"text-align: right;\">\n",
       "      <th></th>\n",
       "      <th>week</th>\n",
       "      <th>region</th>\n",
       "      <th>interest</th>\n",
       "    </tr>\n",
       "  </thead>\n",
       "  <tbody>\n",
       "    <tr>\n",
       "      <th>594</th>\n",
       "      <td>2022-01-02</td>\n",
       "      <td>home workout: (Worldwide)</td>\n",
       "      <td>21</td>\n",
       "    </tr>\n",
       "    <tr>\n",
       "      <th>595</th>\n",
       "      <td>2022-01-02</td>\n",
       "      <td>gym workout: (Worldwide)</td>\n",
       "      <td>19</td>\n",
       "    </tr>\n",
       "    <tr>\n",
       "      <th>596</th>\n",
       "      <td>2022-01-02</td>\n",
       "      <td>home gym: (Worldwide)</td>\n",
       "      <td>21</td>\n",
       "    </tr>\n",
       "    <tr>\n",
       "      <th>597</th>\n",
       "      <td>2022-01-09</td>\n",
       "      <td>home workout: (Worldwide)</td>\n",
       "      <td>19</td>\n",
       "    </tr>\n",
       "    <tr>\n",
       "      <th>598</th>\n",
       "      <td>2022-01-09</td>\n",
       "      <td>gym workout: (Worldwide)</td>\n",
       "      <td>17</td>\n",
       "    </tr>\n",
       "  </tbody>\n",
       "</table>\n",
       "</div>"
      ],
      "text/plain": [
       "          week                     region  interest\n",
       "594 2022-01-02  home workout: (Worldwide)        21\n",
       "595 2022-01-02   gym workout: (Worldwide)        19\n",
       "596 2022-01-02      home gym: (Worldwide)        21\n",
       "597 2022-01-09  home workout: (Worldwide)        19\n",
       "598 2022-01-09   gym workout: (Worldwide)        17"
      ]
     },
     "execution_count": 158,
     "metadata": {},
     "output_type": "execute_result"
    }
   ],
   "source": [
    "df_22_23.head()"
   ]
  },
  {
   "cell_type": "code",
   "execution_count": 159,
   "id": "b17f5309",
   "metadata": {},
   "outputs": [
    {
     "data": {
      "text/html": [
       "<div>\n",
       "<style scoped>\n",
       "    .dataframe tbody tr th:only-of-type {\n",
       "        vertical-align: middle;\n",
       "    }\n",
       "\n",
       "    .dataframe tbody tr th {\n",
       "        vertical-align: top;\n",
       "    }\n",
       "\n",
       "    .dataframe thead th {\n",
       "        text-align: right;\n",
       "    }\n",
       "</style>\n",
       "<table border=\"1\" class=\"dataframe\">\n",
       "  <thead>\n",
       "    <tr style=\"text-align: right;\">\n",
       "      <th></th>\n",
       "      <th>region</th>\n",
       "      <th>interest</th>\n",
       "    </tr>\n",
       "  </thead>\n",
       "  <tbody>\n",
       "    <tr>\n",
       "      <th>0</th>\n",
       "      <td>gym workout: (Worldwide)</td>\n",
       "      <td>1155</td>\n",
       "    </tr>\n",
       "    <tr>\n",
       "      <th>1</th>\n",
       "      <td>home gym: (Worldwide)</td>\n",
       "      <td>781</td>\n",
       "    </tr>\n",
       "    <tr>\n",
       "      <th>2</th>\n",
       "      <td>home workout: (Worldwide)</td>\n",
       "      <td>837</td>\n",
       "    </tr>\n",
       "  </tbody>\n",
       "</table>\n",
       "</div>"
      ],
      "text/plain": [
       "                      region  interest\n",
       "0   gym workout: (Worldwide)      1155\n",
       "1      home gym: (Worldwide)       781\n",
       "2  home workout: (Worldwide)       837"
      ]
     },
     "execution_count": 159,
     "metadata": {},
     "output_type": "execute_result"
    }
   ],
   "source": [
    "stats_22_23 = df_22_23.groupby('region')['interest'].sum().reset_index()\n",
    "stats_22_23"
   ]
  },
  {
   "cell_type": "code",
   "execution_count": 160,
   "id": "cab5b6e9",
   "metadata": {},
   "outputs": [
    {
     "name": "stderr",
     "output_type": "stream",
     "text": [
      "C:\\Users\\sasa_\\AppData\\Local\\Temp\\ipykernel_17376\\3059975459.py:2: FutureWarning: \n",
      "\n",
      "The `ci` parameter is deprecated. Use `errorbar=('ci', False)` for the same effect.\n",
      "\n",
      "  sns.barplot(data = stats_22_23, x = 'region', y= 'interest', ci = False, alpha = 0.8)\n"
     ]
    },
    {
     "data": {
      "image/png": "[encoded data removed]",
      "text/plain": [
       "<Figure size 1000x600 with 1 Axes>"
      ]
     },
     "metadata": {},
     "output_type": "display_data"
    }
   ],
   "source": [
    "plt.figure(figsize = (10,6))\n",
    "sns.barplot(data = stats_22_23, x = 'region', y= 'interest', ci = False, alpha = 0.8)\n",
    "plt.title('Interest Distribution by Region (2022-2023)')\n",
    "plt.show()"
   ]
  },
  {
   "cell_type": "code",
   "execution_count": 161,
   "id": "f5f9904d",
   "metadata": {},
   "outputs": [
    {
     "data": {
      "text/plain": [
       "'gym workout: (Worldwide)'"
      ]
     },
     "execution_count": 161,
     "metadata": {},
     "output_type": "execute_result"
    }
   ],
   "source": [
    "highest_region_interest_22_23 = stats_22_23[stats_22_23['interest'] == stats_22_23['interest'].max()]\n",
    "highest_region_interest_22_23= stats_22_23['region'].values[0]\n",
    "highest_region_interest_22_23"
   ]
  },
  {
   "cell_type": "markdown",
   "id": "44943c90",
   "metadata": {},
   "source": [
    "###### we find that gym workout generated the highest interest in 2022 and 2023 worldwide "
   ]
  },
  {
   "cell_type": "code",
   "execution_count": null,
   "id": "61072a0c",
   "metadata": {},
   "outputs": [],
   "source": []
  },
  {
   "cell_type": "code",
   "execution_count": 162,
   "id": "56c3390f",
   "metadata": {},
   "outputs": [],
   "source": [
    "## filtering for 2020 only\n",
    "df_2020 = df[df['week'].dt.year == 2020]"
   ]
  },
  {
   "cell_type": "code",
   "execution_count": 163,
   "id": "78ca7346",
   "metadata": {},
   "outputs": [
    {
     "data": {
      "text/plain": [
       "region\n",
       "gym workout: (Worldwide)      716\n",
       "home gym: (Worldwide)        1105\n",
       "home workout: (Worldwide)    1528\n",
       "Name: interest, dtype: int64"
      ]
     },
     "execution_count": 163,
     "metadata": {},
     "output_type": "execute_result"
    }
   ],
   "source": [
    "df_2020.groupby('region')['interest'].sum()"
   ]
  },
  {
   "cell_type": "code",
   "execution_count": 164,
   "id": "dbae98f7",
   "metadata": {},
   "outputs": [
    {
     "name": "stderr",
     "output_type": "stream",
     "text": [
      "C:\\Users\\sasa_\\AppData\\Local\\Temp\\ipykernel_17376\\2163474071.py:2: FutureWarning: \n",
      "\n",
      "The `ci` parameter is deprecated. Use `errorbar=('ci', False)` for the same effect.\n",
      "\n",
      "  sns.barplot(data = df_2020, x = 'region', y= 'interest', ci = False, alpha = 0.8)\n"
     ]
    },
    {
     "data": {
      "image/png": "[encoded data removed]",
      "text/plain": [
       "<Figure size 1000x600 with 1 Axes>"
      ]
     },
     "metadata": {},
     "output_type": "display_data"
    }
   ],
   "source": [
    "plt.figure(figsize = (10,6))\n",
    "sns.barplot(data = df_2020, x = 'region', y= 'interest', ci = False, alpha = 0.8)\n",
    "plt.title('Interest Distribution by Region (2020)')\n",
    "plt.show()"
   ]
  },
  {
   "cell_type": "code",
   "execution_count": 165,
   "id": "0894a9f4",
   "metadata": {},
   "outputs": [],
   "source": [
    "peak_covid = 'home workout: (Worldwide)'"
   ]
  },
  {
   "cell_type": "markdown",
   "id": "14d5f078",
   "metadata": {},
   "source": [
    "###### we find that home workout generated the highest interest worldwide in 2020"
   ]
  },
  {
   "cell_type": "code",
   "execution_count": null,
   "id": "aa265b09",
   "metadata": {},
   "outputs": [],
   "source": []
  },
  {
   "cell_type": "markdown",
   "id": "06adc9e8",
   "metadata": {},
   "source": [
    "### 3- FINDING THE TOP COUNTRY INTEREST "
   ]
  },
  {
   "cell_type": "code",
   "execution_count": 166,
   "id": "6c756df2",
   "metadata": {},
   "outputs": [],
   "source": [
    "# Segment global interest by region"
   ]
  },
  {
   "cell_type": "code",
   "execution_count": 167,
   "id": "aae81105",
   "metadata": {},
   "outputs": [
    {
     "data": {
      "text/html": [
       "<div>\n",
       "<style scoped>\n",
       "    .dataframe tbody tr th:only-of-type {\n",
       "        vertical-align: middle;\n",
       "    }\n",
       "\n",
       "    .dataframe tbody tr th {\n",
       "        vertical-align: top;\n",
       "    }\n",
       "\n",
       "    .dataframe thead th {\n",
       "        text-align: right;\n",
       "    }\n",
       "</style>\n",
       "<table border=\"1\" class=\"dataframe\">\n",
       "  <thead>\n",
       "    <tr style=\"text-align: right;\">\n",
       "      <th></th>\n",
       "      <th>Country</th>\n",
       "      <th>workout: (3/16/18 - 3/16/23)</th>\n",
       "    </tr>\n",
       "  </thead>\n",
       "  <tbody>\n",
       "    <tr>\n",
       "      <th>0</th>\n",
       "      <td>Guam</td>\n",
       "      <td>NaN</td>\n",
       "    </tr>\n",
       "    <tr>\n",
       "      <th>1</th>\n",
       "      <td>Falkland Islands (Islas Malvinas)</td>\n",
       "      <td>NaN</td>\n",
       "    </tr>\n",
       "    <tr>\n",
       "      <th>2</th>\n",
       "      <td>Cook Islands</td>\n",
       "      <td>NaN</td>\n",
       "    </tr>\n",
       "    <tr>\n",
       "      <th>3</th>\n",
       "      <td>Brunei</td>\n",
       "      <td>NaN</td>\n",
       "    </tr>\n",
       "    <tr>\n",
       "      <th>4</th>\n",
       "      <td>Palau</td>\n",
       "      <td>NaN</td>\n",
       "    </tr>\n",
       "    <tr>\n",
       "      <th>...</th>\n",
       "      <td>...</td>\n",
       "      <td>...</td>\n",
       "    </tr>\n",
       "    <tr>\n",
       "      <th>245</th>\n",
       "      <td>Tokelau</td>\n",
       "      <td>NaN</td>\n",
       "    </tr>\n",
       "    <tr>\n",
       "      <th>246</th>\n",
       "      <td>Tuvalu</td>\n",
       "      <td>NaN</td>\n",
       "    </tr>\n",
       "    <tr>\n",
       "      <th>247</th>\n",
       "      <td>U.S. Outlying Islands</td>\n",
       "      <td>NaN</td>\n",
       "    </tr>\n",
       "    <tr>\n",
       "      <th>248</th>\n",
       "      <td>Vatican City</td>\n",
       "      <td>NaN</td>\n",
       "    </tr>\n",
       "    <tr>\n",
       "      <th>249</th>\n",
       "      <td>Wallis &amp; Futuna</td>\n",
       "      <td>NaN</td>\n",
       "    </tr>\n",
       "  </tbody>\n",
       "</table>\n",
       "<p>250 rows × 2 columns</p>\n",
       "</div>"
      ],
      "text/plain": [
       "                               Country  workout: (3/16/18 - 3/16/23)\n",
       "0                                 Guam                           NaN\n",
       "1    Falkland Islands (Islas Malvinas)                           NaN\n",
       "2                         Cook Islands                           NaN\n",
       "3                               Brunei                           NaN\n",
       "4                                Palau                           NaN\n",
       "..                                 ...                           ...\n",
       "245                            Tokelau                           NaN\n",
       "246                             Tuvalu                           NaN\n",
       "247              U.S. Outlying Islands                           NaN\n",
       "248                       Vatican City                           NaN\n",
       "249                    Wallis & Futuna                           NaN\n",
       "\n",
       "[250 rows x 2 columns]"
      ]
     },
     "execution_count": 167,
     "metadata": {},
     "output_type": "execute_result"
    }
   ],
   "source": [
    "geo_df = pd.read_csv('workout/workout_global.csv', header = 1)\n",
    "geo_df"
   ]
  },
  {
   "cell_type": "code",
   "execution_count": 168,
   "id": "20e874f9",
   "metadata": {},
   "outputs": [
    {
     "data": {
      "text/plain": [
       "Country                           0\n",
       "workout: (3/16/18 - 3/16/23)    189\n",
       "dtype: int64"
      ]
     },
     "execution_count": 168,
     "metadata": {},
     "output_type": "execute_result"
    }
   ],
   "source": [
    "geo_df.isnull().sum()"
   ]
  },
  {
   "cell_type": "code",
   "execution_count": 169,
   "id": "05bf171c",
   "metadata": {},
   "outputs": [],
   "source": [
    "geo_df = geo_df.dropna()"
   ]
  },
  {
   "cell_type": "code",
   "execution_count": 170,
   "id": "1a7dcde4",
   "metadata": {},
   "outputs": [
    {
     "data": {
      "text/html": [
       "<div>\n",
       "<style scoped>\n",
       "    .dataframe tbody tr th:only-of-type {\n",
       "        vertical-align: middle;\n",
       "    }\n",
       "\n",
       "    .dataframe tbody tr th {\n",
       "        vertical-align: top;\n",
       "    }\n",
       "\n",
       "    .dataframe thead th {\n",
       "        text-align: right;\n",
       "    }\n",
       "</style>\n",
       "<table border=\"1\" class=\"dataframe\">\n",
       "  <thead>\n",
       "    <tr style=\"text-align: right;\">\n",
       "      <th></th>\n",
       "      <th>Country</th>\n",
       "      <th>workout: (3/16/18 - 3/16/23)</th>\n",
       "    </tr>\n",
       "  </thead>\n",
       "  <tbody>\n",
       "    <tr>\n",
       "      <th>5</th>\n",
       "      <td>United States</td>\n",
       "      <td>100.0</td>\n",
       "    </tr>\n",
       "    <tr>\n",
       "      <th>12</th>\n",
       "      <td>Canada</td>\n",
       "      <td>86.0</td>\n",
       "    </tr>\n",
       "    <tr>\n",
       "      <th>18</th>\n",
       "      <td>Australia</td>\n",
       "      <td>77.0</td>\n",
       "    </tr>\n",
       "    <tr>\n",
       "      <th>22</th>\n",
       "      <td>New Zealand</td>\n",
       "      <td>73.0</td>\n",
       "    </tr>\n",
       "    <tr>\n",
       "      <th>23</th>\n",
       "      <td>Lebanon</td>\n",
       "      <td>73.0</td>\n",
       "    </tr>\n",
       "  </tbody>\n",
       "</table>\n",
       "</div>"
      ],
      "text/plain": [
       "          Country  workout: (3/16/18 - 3/16/23)\n",
       "5   United States                         100.0\n",
       "12         Canada                          86.0\n",
       "18      Australia                          77.0\n",
       "22    New Zealand                          73.0\n",
       "23        Lebanon                          73.0"
      ]
     },
     "execution_count": 170,
     "metadata": {},
     "output_type": "execute_result"
    }
   ],
   "source": [
    "geo_df.head()"
   ]
  },
  {
   "cell_type": "code",
   "execution_count": 171,
   "id": "d9fa6441",
   "metadata": {},
   "outputs": [],
   "source": [
    "geo_df.columns = ['country', 'interest']"
   ]
  },
  {
   "cell_type": "code",
   "execution_count": 172,
   "id": "6dc1a914",
   "metadata": {},
   "outputs": [],
   "source": [
    "top_25_countries= geo_df.groupby('country')['interest'].sum().sort_values(ascending = False)\\\n",
    "                                                             .reset_index()[:25]"
   ]
  },
  {
   "cell_type": "code",
   "execution_count": 173,
   "id": "27fc8b00",
   "metadata": {},
   "outputs": [
    {
     "data": {
      "image/png": "[encoded data removed]",
      "text/plain": [
       "<Figure size 1200x600 with 1 Axes>"
      ]
     },
     "metadata": {},
     "output_type": "display_data"
    }
   ],
   "source": [
    "plt.figure(figsize = (12,6))\n",
    "sns.barplot(data = top_25_countries , y = 'country', x = 'interest')\n",
    "plt.title('Interest Distribution by Country')\n",
    "plt.show()"
   ]
  },
  {
   "cell_type": "code",
   "execution_count": 174,
   "id": "cdf72413",
   "metadata": {},
   "outputs": [],
   "source": [
    "top_country = top_25_countries['country'].values[0]"
   ]
  },
  {
   "cell_type": "code",
   "execution_count": 175,
   "id": "b950ba59",
   "metadata": {},
   "outputs": [
    {
     "data": {
      "text/plain": [
       "'United States'"
      ]
     },
     "execution_count": 175,
     "metadata": {},
     "output_type": "execute_result"
    }
   ],
   "source": [
    "top_country"
   ]
  },
  {
   "cell_type": "markdown",
   "id": "cb3bf750",
   "metadata": {},
   "source": [
    "###### United states has the highest interest generated"
   ]
  },
  {
   "cell_type": "code",
   "execution_count": null,
   "id": "17b81e70",
   "metadata": {},
   "outputs": [],
   "source": []
  },
  {
   "cell_type": "markdown",
   "id": "aaa86aeb",
   "metadata": {},
   "source": [
    "#### 4- FINDING TOP INTEREST HOMEWORKOUT COUNTRY GIVEN SPECIFIC COUNTRIES"
   ]
  },
  {
   "cell_type": "code",
   "execution_count": 176,
   "id": "e6c28d04",
   "metadata": {},
   "outputs": [],
   "source": [
    "# Assessing regional demand for home workouts, gym workouts and home gyms"
   ]
  },
  {
   "cell_type": "code",
   "execution_count": 177,
   "id": "55748bae",
   "metadata": {},
   "outputs": [
    {
     "data": {
      "text/html": [
       "<div>\n",
       "<style scoped>\n",
       "    .dataframe tbody tr th:only-of-type {\n",
       "        vertical-align: middle;\n",
       "    }\n",
       "\n",
       "    .dataframe tbody tr th {\n",
       "        vertical-align: top;\n",
       "    }\n",
       "\n",
       "    .dataframe thead th {\n",
       "        text-align: right;\n",
       "    }\n",
       "</style>\n",
       "<table border=\"1\" class=\"dataframe\">\n",
       "  <thead>\n",
       "    <tr style=\"text-align: right;\">\n",
       "      <th></th>\n",
       "      <th>Country</th>\n",
       "      <th>home workout: (3/16/18 - 3/16/23)</th>\n",
       "      <th>gym workout: (3/16/18 - 3/16/23)</th>\n",
       "      <th>home gym: (3/16/18 - 3/16/23)</th>\n",
       "    </tr>\n",
       "  </thead>\n",
       "  <tbody>\n",
       "    <tr>\n",
       "      <th>0</th>\n",
       "      <td>Gibraltar</td>\n",
       "      <td>NaN</td>\n",
       "      <td>NaN</td>\n",
       "      <td>NaN</td>\n",
       "    </tr>\n",
       "    <tr>\n",
       "      <th>1</th>\n",
       "      <td>Lesotho</td>\n",
       "      <td>NaN</td>\n",
       "      <td>NaN</td>\n",
       "      <td>NaN</td>\n",
       "    </tr>\n",
       "    <tr>\n",
       "      <th>2</th>\n",
       "      <td>Guam</td>\n",
       "      <td>NaN</td>\n",
       "      <td>NaN</td>\n",
       "      <td>NaN</td>\n",
       "    </tr>\n",
       "    <tr>\n",
       "      <th>3</th>\n",
       "      <td>Botswana</td>\n",
       "      <td>NaN</td>\n",
       "      <td>NaN</td>\n",
       "      <td>NaN</td>\n",
       "    </tr>\n",
       "    <tr>\n",
       "      <th>4</th>\n",
       "      <td>Brunei</td>\n",
       "      <td>NaN</td>\n",
       "      <td>NaN</td>\n",
       "      <td>NaN</td>\n",
       "    </tr>\n",
       "    <tr>\n",
       "      <th>...</th>\n",
       "      <td>...</td>\n",
       "      <td>...</td>\n",
       "      <td>...</td>\n",
       "      <td>...</td>\n",
       "    </tr>\n",
       "    <tr>\n",
       "      <th>245</th>\n",
       "      <td>Tokelau</td>\n",
       "      <td>NaN</td>\n",
       "      <td>NaN</td>\n",
       "      <td>NaN</td>\n",
       "    </tr>\n",
       "    <tr>\n",
       "      <th>246</th>\n",
       "      <td>Tuvalu</td>\n",
       "      <td>NaN</td>\n",
       "      <td>NaN</td>\n",
       "      <td>NaN</td>\n",
       "    </tr>\n",
       "    <tr>\n",
       "      <th>247</th>\n",
       "      <td>U.S. Outlying Islands</td>\n",
       "      <td>NaN</td>\n",
       "      <td>NaN</td>\n",
       "      <td>NaN</td>\n",
       "    </tr>\n",
       "    <tr>\n",
       "      <th>248</th>\n",
       "      <td>Vatican City</td>\n",
       "      <td>NaN</td>\n",
       "      <td>NaN</td>\n",
       "      <td>NaN</td>\n",
       "    </tr>\n",
       "    <tr>\n",
       "      <th>249</th>\n",
       "      <td>Wallis &amp; Futuna</td>\n",
       "      <td>NaN</td>\n",
       "      <td>NaN</td>\n",
       "      <td>NaN</td>\n",
       "    </tr>\n",
       "  </tbody>\n",
       "</table>\n",
       "<p>250 rows × 4 columns</p>\n",
       "</div>"
      ],
      "text/plain": [
       "                   Country home workout: (3/16/18 - 3/16/23)  \\\n",
       "0                Gibraltar                               NaN   \n",
       "1                  Lesotho                               NaN   \n",
       "2                     Guam                               NaN   \n",
       "3                 Botswana                               NaN   \n",
       "4                   Brunei                               NaN   \n",
       "..                     ...                               ...   \n",
       "245                Tokelau                               NaN   \n",
       "246                 Tuvalu                               NaN   \n",
       "247  U.S. Outlying Islands                               NaN   \n",
       "248           Vatican City                               NaN   \n",
       "249        Wallis & Futuna                               NaN   \n",
       "\n",
       "    gym workout: (3/16/18 - 3/16/23) home gym: (3/16/18 - 3/16/23)  \n",
       "0                                NaN                           NaN  \n",
       "1                                NaN                           NaN  \n",
       "2                                NaN                           NaN  \n",
       "3                                NaN                           NaN  \n",
       "4                                NaN                           NaN  \n",
       "..                               ...                           ...  \n",
       "245                              NaN                           NaN  \n",
       "246                              NaN                           NaN  \n",
       "247                              NaN                           NaN  \n",
       "248                              NaN                           NaN  \n",
       "249                              NaN                           NaN  \n",
       "\n",
       "[250 rows x 4 columns]"
      ]
     },
     "execution_count": 177,
     "metadata": {},
     "output_type": "execute_result"
    }
   ],
   "source": [
    "geo_categories = pd.read_csv('workout/geo_three_keywords.csv', header = 1)\n",
    "geo_categories"
   ]
  },
  {
   "cell_type": "code",
   "execution_count": 178,
   "id": "7652f0b7",
   "metadata": {},
   "outputs": [],
   "source": [
    "geo_categories = geo_categories.dropna()"
   ]
  },
  {
   "cell_type": "code",
   "execution_count": 179,
   "id": "e795288e",
   "metadata": {},
   "outputs": [
    {
     "data": {
      "text/html": [
       "<div>\n",
       "<style scoped>\n",
       "    .dataframe tbody tr th:only-of-type {\n",
       "        vertical-align: middle;\n",
       "    }\n",
       "\n",
       "    .dataframe tbody tr th {\n",
       "        vertical-align: top;\n",
       "    }\n",
       "\n",
       "    .dataframe thead th {\n",
       "        text-align: right;\n",
       "    }\n",
       "</style>\n",
       "<table border=\"1\" class=\"dataframe\">\n",
       "  <thead>\n",
       "    <tr style=\"text-align: right;\">\n",
       "      <th></th>\n",
       "      <th>Country</th>\n",
       "      <th>home workout: (3/16/18 - 3/16/23)</th>\n",
       "      <th>gym workout: (3/16/18 - 3/16/23)</th>\n",
       "      <th>home gym: (3/16/18 - 3/16/23)</th>\n",
       "    </tr>\n",
       "  </thead>\n",
       "  <tbody>\n",
       "    <tr>\n",
       "      <th>15</th>\n",
       "      <td>South Africa</td>\n",
       "      <td>41%</td>\n",
       "      <td>33%</td>\n",
       "      <td>26%</td>\n",
       "    </tr>\n",
       "    <tr>\n",
       "      <th>16</th>\n",
       "      <td>Australia</td>\n",
       "      <td>30%</td>\n",
       "      <td>34%</td>\n",
       "      <td>36%</td>\n",
       "    </tr>\n",
       "    <tr>\n",
       "      <th>22</th>\n",
       "      <td>Canada</td>\n",
       "      <td>40%</td>\n",
       "      <td>27%</td>\n",
       "      <td>33%</td>\n",
       "    </tr>\n",
       "    <tr>\n",
       "      <th>23</th>\n",
       "      <td>Philippines</td>\n",
       "      <td>52%</td>\n",
       "      <td>38%</td>\n",
       "      <td>10%</td>\n",
       "    </tr>\n",
       "    <tr>\n",
       "      <th>25</th>\n",
       "      <td>United Kingdom</td>\n",
       "      <td>34%</td>\n",
       "      <td>36%</td>\n",
       "      <td>30%</td>\n",
       "    </tr>\n",
       "  </tbody>\n",
       "</table>\n",
       "</div>"
      ],
      "text/plain": [
       "           Country home workout: (3/16/18 - 3/16/23)  \\\n",
       "15    South Africa                               41%   \n",
       "16       Australia                               30%   \n",
       "22          Canada                               40%   \n",
       "23     Philippines                               52%   \n",
       "25  United Kingdom                               34%   \n",
       "\n",
       "   gym workout: (3/16/18 - 3/16/23) home gym: (3/16/18 - 3/16/23)  \n",
       "15                              33%                           26%  \n",
       "16                              34%                           36%  \n",
       "22                              27%                           33%  \n",
       "23                              38%                           10%  \n",
       "25                              36%                           30%  "
      ]
     },
     "execution_count": 179,
     "metadata": {},
     "output_type": "execute_result"
    }
   ],
   "source": [
    "geo_categories.head()"
   ]
  },
  {
   "cell_type": "code",
   "execution_count": 180,
   "id": "8d8cf61f",
   "metadata": {},
   "outputs": [],
   "source": [
    "fil_geo = geo_categories.set_index('Country').stack().reset_index()"
   ]
  },
  {
   "cell_type": "code",
   "execution_count": 181,
   "id": "5f1600a1",
   "metadata": {},
   "outputs": [
    {
     "data": {
      "text/html": [
       "<div>\n",
       "<style scoped>\n",
       "    .dataframe tbody tr th:only-of-type {\n",
       "        vertical-align: middle;\n",
       "    }\n",
       "\n",
       "    .dataframe tbody tr th {\n",
       "        vertical-align: top;\n",
       "    }\n",
       "\n",
       "    .dataframe thead th {\n",
       "        text-align: right;\n",
       "    }\n",
       "</style>\n",
       "<table border=\"1\" class=\"dataframe\">\n",
       "  <thead>\n",
       "    <tr style=\"text-align: right;\">\n",
       "      <th></th>\n",
       "      <th>country</th>\n",
       "      <th>region</th>\n",
       "      <th>interest</th>\n",
       "    </tr>\n",
       "  </thead>\n",
       "  <tbody>\n",
       "    <tr>\n",
       "      <th>0</th>\n",
       "      <td>South Africa</td>\n",
       "      <td>home workout: (3/16/18 - 3/16/23)</td>\n",
       "      <td>41%</td>\n",
       "    </tr>\n",
       "    <tr>\n",
       "      <th>1</th>\n",
       "      <td>South Africa</td>\n",
       "      <td>gym workout: (3/16/18 - 3/16/23)</td>\n",
       "      <td>33%</td>\n",
       "    </tr>\n",
       "    <tr>\n",
       "      <th>2</th>\n",
       "      <td>South Africa</td>\n",
       "      <td>home gym: (3/16/18 - 3/16/23)</td>\n",
       "      <td>26%</td>\n",
       "    </tr>\n",
       "    <tr>\n",
       "      <th>3</th>\n",
       "      <td>Australia</td>\n",
       "      <td>home workout: (3/16/18 - 3/16/23)</td>\n",
       "      <td>30%</td>\n",
       "    </tr>\n",
       "    <tr>\n",
       "      <th>4</th>\n",
       "      <td>Australia</td>\n",
       "      <td>gym workout: (3/16/18 - 3/16/23)</td>\n",
       "      <td>34%</td>\n",
       "    </tr>\n",
       "    <tr>\n",
       "      <th>...</th>\n",
       "      <td>...</td>\n",
       "      <td>...</td>\n",
       "      <td>...</td>\n",
       "    </tr>\n",
       "    <tr>\n",
       "      <th>136</th>\n",
       "      <td>Brazil</td>\n",
       "      <td>gym workout: (3/16/18 - 3/16/23)</td>\n",
       "      <td>30%</td>\n",
       "    </tr>\n",
       "    <tr>\n",
       "      <th>137</th>\n",
       "      <td>Brazil</td>\n",
       "      <td>home gym: (3/16/18 - 3/16/23)</td>\n",
       "      <td>29%</td>\n",
       "    </tr>\n",
       "    <tr>\n",
       "      <th>138</th>\n",
       "      <td>Japan</td>\n",
       "      <td>home workout: (3/16/18 - 3/16/23)</td>\n",
       "      <td>34%</td>\n",
       "    </tr>\n",
       "    <tr>\n",
       "      <th>139</th>\n",
       "      <td>Japan</td>\n",
       "      <td>gym workout: (3/16/18 - 3/16/23)</td>\n",
       "      <td>37%</td>\n",
       "    </tr>\n",
       "    <tr>\n",
       "      <th>140</th>\n",
       "      <td>Japan</td>\n",
       "      <td>home gym: (3/16/18 - 3/16/23)</td>\n",
       "      <td>29%</td>\n",
       "    </tr>\n",
       "  </tbody>\n",
       "</table>\n",
       "<p>141 rows × 3 columns</p>\n",
       "</div>"
      ],
      "text/plain": [
       "          country                             region interest\n",
       "0    South Africa  home workout: (3/16/18 - 3/16/23)      41%\n",
       "1    South Africa   gym workout: (3/16/18 - 3/16/23)      33%\n",
       "2    South Africa      home gym: (3/16/18 - 3/16/23)      26%\n",
       "3       Australia  home workout: (3/16/18 - 3/16/23)      30%\n",
       "4       Australia   gym workout: (3/16/18 - 3/16/23)      34%\n",
       "..            ...                                ...      ...\n",
       "136        Brazil   gym workout: (3/16/18 - 3/16/23)      30%\n",
       "137        Brazil      home gym: (3/16/18 - 3/16/23)      29%\n",
       "138         Japan  home workout: (3/16/18 - 3/16/23)      34%\n",
       "139         Japan   gym workout: (3/16/18 - 3/16/23)      37%\n",
       "140         Japan      home gym: (3/16/18 - 3/16/23)      29%\n",
       "\n",
       "[141 rows x 3 columns]"
      ]
     },
     "execution_count": 181,
     "metadata": {},
     "output_type": "execute_result"
    }
   ],
   "source": [
    "fil_geo.columns = ['country','region','interest']\n",
    "fil_geo"
   ]
  },
  {
   "cell_type": "code",
   "execution_count": 182,
   "id": "92e35fdd",
   "metadata": {},
   "outputs": [],
   "source": [
    "fil_geo['interest'] = fil_geo['interest'].str.replace('%','')"
   ]
  },
  {
   "cell_type": "code",
   "execution_count": 183,
   "id": "2d04494c",
   "metadata": {},
   "outputs": [
    {
     "data": {
      "text/html": [
       "<div>\n",
       "<style scoped>\n",
       "    .dataframe tbody tr th:only-of-type {\n",
       "        vertical-align: middle;\n",
       "    }\n",
       "\n",
       "    .dataframe tbody tr th {\n",
       "        vertical-align: top;\n",
       "    }\n",
       "\n",
       "    .dataframe thead th {\n",
       "        text-align: right;\n",
       "    }\n",
       "</style>\n",
       "<table border=\"1\" class=\"dataframe\">\n",
       "  <thead>\n",
       "    <tr style=\"text-align: right;\">\n",
       "      <th></th>\n",
       "      <th>country</th>\n",
       "      <th>region</th>\n",
       "      <th>interest</th>\n",
       "    </tr>\n",
       "  </thead>\n",
       "  <tbody>\n",
       "    <tr>\n",
       "      <th>0</th>\n",
       "      <td>South Africa</td>\n",
       "      <td>home workout: (3/16/18 - 3/16/23)</td>\n",
       "      <td>41</td>\n",
       "    </tr>\n",
       "    <tr>\n",
       "      <th>1</th>\n",
       "      <td>South Africa</td>\n",
       "      <td>gym workout: (3/16/18 - 3/16/23)</td>\n",
       "      <td>33</td>\n",
       "    </tr>\n",
       "    <tr>\n",
       "      <th>2</th>\n",
       "      <td>South Africa</td>\n",
       "      <td>home gym: (3/16/18 - 3/16/23)</td>\n",
       "      <td>26</td>\n",
       "    </tr>\n",
       "    <tr>\n",
       "      <th>3</th>\n",
       "      <td>Australia</td>\n",
       "      <td>home workout: (3/16/18 - 3/16/23)</td>\n",
       "      <td>30</td>\n",
       "    </tr>\n",
       "    <tr>\n",
       "      <th>4</th>\n",
       "      <td>Australia</td>\n",
       "      <td>gym workout: (3/16/18 - 3/16/23)</td>\n",
       "      <td>34</td>\n",
       "    </tr>\n",
       "    <tr>\n",
       "      <th>...</th>\n",
       "      <td>...</td>\n",
       "      <td>...</td>\n",
       "      <td>...</td>\n",
       "    </tr>\n",
       "    <tr>\n",
       "      <th>136</th>\n",
       "      <td>Brazil</td>\n",
       "      <td>gym workout: (3/16/18 - 3/16/23)</td>\n",
       "      <td>30</td>\n",
       "    </tr>\n",
       "    <tr>\n",
       "      <th>137</th>\n",
       "      <td>Brazil</td>\n",
       "      <td>home gym: (3/16/18 - 3/16/23)</td>\n",
       "      <td>29</td>\n",
       "    </tr>\n",
       "    <tr>\n",
       "      <th>138</th>\n",
       "      <td>Japan</td>\n",
       "      <td>home workout: (3/16/18 - 3/16/23)</td>\n",
       "      <td>34</td>\n",
       "    </tr>\n",
       "    <tr>\n",
       "      <th>139</th>\n",
       "      <td>Japan</td>\n",
       "      <td>gym workout: (3/16/18 - 3/16/23)</td>\n",
       "      <td>37</td>\n",
       "    </tr>\n",
       "    <tr>\n",
       "      <th>140</th>\n",
       "      <td>Japan</td>\n",
       "      <td>home gym: (3/16/18 - 3/16/23)</td>\n",
       "      <td>29</td>\n",
       "    </tr>\n",
       "  </tbody>\n",
       "</table>\n",
       "<p>141 rows × 3 columns</p>\n",
       "</div>"
      ],
      "text/plain": [
       "          country                             region interest\n",
       "0    South Africa  home workout: (3/16/18 - 3/16/23)       41\n",
       "1    South Africa   gym workout: (3/16/18 - 3/16/23)       33\n",
       "2    South Africa      home gym: (3/16/18 - 3/16/23)       26\n",
       "3       Australia  home workout: (3/16/18 - 3/16/23)       30\n",
       "4       Australia   gym workout: (3/16/18 - 3/16/23)       34\n",
       "..            ...                                ...      ...\n",
       "136        Brazil   gym workout: (3/16/18 - 3/16/23)       30\n",
       "137        Brazil      home gym: (3/16/18 - 3/16/23)       29\n",
       "138         Japan  home workout: (3/16/18 - 3/16/23)       34\n",
       "139         Japan   gym workout: (3/16/18 - 3/16/23)       37\n",
       "140         Japan      home gym: (3/16/18 - 3/16/23)       29\n",
       "\n",
       "[141 rows x 3 columns]"
      ]
     },
     "execution_count": 183,
     "metadata": {},
     "output_type": "execute_result"
    }
   ],
   "source": [
    "fil_geo"
   ]
  },
  {
   "cell_type": "code",
   "execution_count": 184,
   "id": "59ea4a10",
   "metadata": {},
   "outputs": [],
   "source": [
    "# the task required me to only include these countries \n",
    "to_filter_counters= [\"Philippines\", \"Singapore\", \"United Arab Emirates\",\\\n",
    "                      \"Qatar\", \"Kuwait\", \"Lebanon\", \"Malaysia\", \"Sri Lanka\", \"India\",\"Pakistan\"]"
   ]
  },
  {
   "cell_type": "code",
   "execution_count": 72,
   "id": "a77e3889",
   "metadata": {},
   "outputs": [
    {
     "data": {
      "text/html": [
       "<div>\n",
       "<style scoped>\n",
       "    .dataframe tbody tr th:only-of-type {\n",
       "        vertical-align: middle;\n",
       "    }\n",
       "\n",
       "    .dataframe tbody tr th {\n",
       "        vertical-align: top;\n",
       "    }\n",
       "\n",
       "    .dataframe thead th {\n",
       "        text-align: right;\n",
       "    }\n",
       "</style>\n",
       "<table border=\"1\" class=\"dataframe\">\n",
       "  <thead>\n",
       "    <tr style=\"text-align: right;\">\n",
       "      <th></th>\n",
       "      <th>country</th>\n",
       "      <th>region</th>\n",
       "      <th>interest</th>\n",
       "    </tr>\n",
       "  </thead>\n",
       "  <tbody>\n",
       "    <tr>\n",
       "      <th>9</th>\n",
       "      <td>Philippines</td>\n",
       "      <td>home workout: (3/16/18 - 3/16/23)</td>\n",
       "      <td>52</td>\n",
       "    </tr>\n",
       "    <tr>\n",
       "      <th>10</th>\n",
       "      <td>Philippines</td>\n",
       "      <td>gym workout: (3/16/18 - 3/16/23)</td>\n",
       "      <td>38</td>\n",
       "    </tr>\n",
       "    <tr>\n",
       "      <th>11</th>\n",
       "      <td>Philippines</td>\n",
       "      <td>home gym: (3/16/18 - 3/16/23)</td>\n",
       "      <td>10</td>\n",
       "    </tr>\n",
       "    <tr>\n",
       "      <th>18</th>\n",
       "      <td>India</td>\n",
       "      <td>home workout: (3/16/18 - 3/16/23)</td>\n",
       "      <td>28</td>\n",
       "    </tr>\n",
       "    <tr>\n",
       "      <th>19</th>\n",
       "      <td>India</td>\n",
       "      <td>gym workout: (3/16/18 - 3/16/23)</td>\n",
       "      <td>50</td>\n",
       "    </tr>\n",
       "    <tr>\n",
       "      <th>20</th>\n",
       "      <td>India</td>\n",
       "      <td>home gym: (3/16/18 - 3/16/23)</td>\n",
       "      <td>22</td>\n",
       "    </tr>\n",
       "    <tr>\n",
       "      <th>27</th>\n",
       "      <td>United Arab Emirates</td>\n",
       "      <td>home workout: (3/16/18 - 3/16/23)</td>\n",
       "      <td>32</td>\n",
       "    </tr>\n",
       "    <tr>\n",
       "      <th>28</th>\n",
       "      <td>United Arab Emirates</td>\n",
       "      <td>gym workout: (3/16/18 - 3/16/23)</td>\n",
       "      <td>47</td>\n",
       "    </tr>\n",
       "    <tr>\n",
       "      <th>29</th>\n",
       "      <td>United Arab Emirates</td>\n",
       "      <td>home gym: (3/16/18 - 3/16/23)</td>\n",
       "      <td>21</td>\n",
       "    </tr>\n",
       "    <tr>\n",
       "      <th>30</th>\n",
       "      <td>Sri Lanka</td>\n",
       "      <td>home workout: (3/16/18 - 3/16/23)</td>\n",
       "      <td>33</td>\n",
       "    </tr>\n",
       "    <tr>\n",
       "      <th>31</th>\n",
       "      <td>Sri Lanka</td>\n",
       "      <td>gym workout: (3/16/18 - 3/16/23)</td>\n",
       "      <td>43</td>\n",
       "    </tr>\n",
       "    <tr>\n",
       "      <th>32</th>\n",
       "      <td>Sri Lanka</td>\n",
       "      <td>home gym: (3/16/18 - 3/16/23)</td>\n",
       "      <td>24</td>\n",
       "    </tr>\n",
       "    <tr>\n",
       "      <th>33</th>\n",
       "      <td>Singapore</td>\n",
       "      <td>home workout: (3/16/18 - 3/16/23)</td>\n",
       "      <td>37</td>\n",
       "    </tr>\n",
       "    <tr>\n",
       "      <th>34</th>\n",
       "      <td>Singapore</td>\n",
       "      <td>gym workout: (3/16/18 - 3/16/23)</td>\n",
       "      <td>39</td>\n",
       "    </tr>\n",
       "    <tr>\n",
       "      <th>35</th>\n",
       "      <td>Singapore</td>\n",
       "      <td>home gym: (3/16/18 - 3/16/23)</td>\n",
       "      <td>24</td>\n",
       "    </tr>\n",
       "    <tr>\n",
       "      <th>39</th>\n",
       "      <td>Pakistan</td>\n",
       "      <td>home workout: (3/16/18 - 3/16/23)</td>\n",
       "      <td>31</td>\n",
       "    </tr>\n",
       "    <tr>\n",
       "      <th>40</th>\n",
       "      <td>Pakistan</td>\n",
       "      <td>gym workout: (3/16/18 - 3/16/23)</td>\n",
       "      <td>46</td>\n",
       "    </tr>\n",
       "    <tr>\n",
       "      <th>41</th>\n",
       "      <td>Pakistan</td>\n",
       "      <td>home gym: (3/16/18 - 3/16/23)</td>\n",
       "      <td>23</td>\n",
       "    </tr>\n",
       "    <tr>\n",
       "      <th>42</th>\n",
       "      <td>Malaysia</td>\n",
       "      <td>home workout: (3/16/18 - 3/16/23)</td>\n",
       "      <td>47</td>\n",
       "    </tr>\n",
       "    <tr>\n",
       "      <th>43</th>\n",
       "      <td>Malaysia</td>\n",
       "      <td>gym workout: (3/16/18 - 3/16/23)</td>\n",
       "      <td>38</td>\n",
       "    </tr>\n",
       "    <tr>\n",
       "      <th>44</th>\n",
       "      <td>Malaysia</td>\n",
       "      <td>home gym: (3/16/18 - 3/16/23)</td>\n",
       "      <td>15</td>\n",
       "    </tr>\n",
       "  </tbody>\n",
       "</table>\n",
       "</div>"
      ],
      "text/plain": [
       "                 country                             region interest\n",
       "9            Philippines  home workout: (3/16/18 - 3/16/23)       52\n",
       "10           Philippines   gym workout: (3/16/18 - 3/16/23)       38\n",
       "11           Philippines      home gym: (3/16/18 - 3/16/23)       10\n",
       "18                 India  home workout: (3/16/18 - 3/16/23)       28\n",
       "19                 India   gym workout: (3/16/18 - 3/16/23)       50\n",
       "20                 India      home gym: (3/16/18 - 3/16/23)       22\n",
       "27  United Arab Emirates  home workout: (3/16/18 - 3/16/23)       32\n",
       "28  United Arab Emirates   gym workout: (3/16/18 - 3/16/23)       47\n",
       "29  United Arab Emirates      home gym: (3/16/18 - 3/16/23)       21\n",
       "30             Sri Lanka  home workout: (3/16/18 - 3/16/23)       33\n",
       "31             Sri Lanka   gym workout: (3/16/18 - 3/16/23)       43\n",
       "32             Sri Lanka      home gym: (3/16/18 - 3/16/23)       24\n",
       "33             Singapore  home workout: (3/16/18 - 3/16/23)       37\n",
       "34             Singapore   gym workout: (3/16/18 - 3/16/23)       39\n",
       "35             Singapore      home gym: (3/16/18 - 3/16/23)       24\n",
       "39              Pakistan  home workout: (3/16/18 - 3/16/23)       31\n",
       "40              Pakistan   gym workout: (3/16/18 - 3/16/23)       46\n",
       "41              Pakistan      home gym: (3/16/18 - 3/16/23)       23\n",
       "42              Malaysia  home workout: (3/16/18 - 3/16/23)       47\n",
       "43              Malaysia   gym workout: (3/16/18 - 3/16/23)       38\n",
       "44              Malaysia      home gym: (3/16/18 - 3/16/23)       15"
      ]
     },
     "execution_count": 72,
     "metadata": {},
     "output_type": "execute_result"
    }
   ],
   "source": [
    "MESA = fil_geo[fil_geo['country'].isin(to_filter_counters)]\n",
    "MESA"
   ]
  },
  {
   "cell_type": "code",
   "execution_count": 185,
   "id": "78b5a014",
   "metadata": {},
   "outputs": [
    {
     "data": {
      "text/html": [
       "<div>\n",
       "<style scoped>\n",
       "    .dataframe tbody tr th:only-of-type {\n",
       "        vertical-align: middle;\n",
       "    }\n",
       "\n",
       "    .dataframe tbody tr th {\n",
       "        vertical-align: top;\n",
       "    }\n",
       "\n",
       "    .dataframe thead th {\n",
       "        text-align: right;\n",
       "    }\n",
       "</style>\n",
       "<table border=\"1\" class=\"dataframe\">\n",
       "  <thead>\n",
       "    <tr style=\"text-align: right;\">\n",
       "      <th></th>\n",
       "      <th>country</th>\n",
       "      <th>region</th>\n",
       "      <th>interest</th>\n",
       "    </tr>\n",
       "  </thead>\n",
       "  <tbody>\n",
       "    <tr>\n",
       "      <th>9</th>\n",
       "      <td>Philippines</td>\n",
       "      <td>home workout: (3/16/18 - 3/16/23)</td>\n",
       "      <td>52</td>\n",
       "    </tr>\n",
       "    <tr>\n",
       "      <th>18</th>\n",
       "      <td>India</td>\n",
       "      <td>home workout: (3/16/18 - 3/16/23)</td>\n",
       "      <td>28</td>\n",
       "    </tr>\n",
       "    <tr>\n",
       "      <th>27</th>\n",
       "      <td>United Arab Emirates</td>\n",
       "      <td>home workout: (3/16/18 - 3/16/23)</td>\n",
       "      <td>32</td>\n",
       "    </tr>\n",
       "    <tr>\n",
       "      <th>30</th>\n",
       "      <td>Sri Lanka</td>\n",
       "      <td>home workout: (3/16/18 - 3/16/23)</td>\n",
       "      <td>33</td>\n",
       "    </tr>\n",
       "    <tr>\n",
       "      <th>33</th>\n",
       "      <td>Singapore</td>\n",
       "      <td>home workout: (3/16/18 - 3/16/23)</td>\n",
       "      <td>37</td>\n",
       "    </tr>\n",
       "    <tr>\n",
       "      <th>39</th>\n",
       "      <td>Pakistan</td>\n",
       "      <td>home workout: (3/16/18 - 3/16/23)</td>\n",
       "      <td>31</td>\n",
       "    </tr>\n",
       "    <tr>\n",
       "      <th>42</th>\n",
       "      <td>Malaysia</td>\n",
       "      <td>home workout: (3/16/18 - 3/16/23)</td>\n",
       "      <td>47</td>\n",
       "    </tr>\n",
       "  </tbody>\n",
       "</table>\n",
       "</div>"
      ],
      "text/plain": [
       "                 country                             region interest\n",
       "9            Philippines  home workout: (3/16/18 - 3/16/23)       52\n",
       "18                 India  home workout: (3/16/18 - 3/16/23)       28\n",
       "27  United Arab Emirates  home workout: (3/16/18 - 3/16/23)       32\n",
       "30             Sri Lanka  home workout: (3/16/18 - 3/16/23)       33\n",
       "33             Singapore  home workout: (3/16/18 - 3/16/23)       37\n",
       "39              Pakistan  home workout: (3/16/18 - 3/16/23)       31\n",
       "42              Malaysia  home workout: (3/16/18 - 3/16/23)       47"
      ]
     },
     "execution_count": 185,
     "metadata": {},
     "output_type": "execute_result"
    }
   ],
   "source": [
    "# finding the top home workout countries from the list specified\n",
    "home_workout = MESA[MESA['region'] == 'home workout: (3/16/18 - 3/16/23)']\n",
    "home_workout"
   ]
  },
  {
   "cell_type": "code",
   "execution_count": 186,
   "id": "46d0857f",
   "metadata": {},
   "outputs": [
    {
     "name": "stderr",
     "output_type": "stream",
     "text": [
      "C:\\Users\\sasa_\\AppData\\Local\\Temp\\ipykernel_17376\\2099661523.py:1: SettingWithCopyWarning: \n",
      "A value is trying to be set on a copy of a slice from a DataFrame.\n",
      "Try using .loc[row_indexer,col_indexer] = value instead\n",
      "\n",
      "See the caveats in the documentation: https://pandas.pydata.org/pandas-docs/stable/user_guide/indexing.html#returning-a-view-versus-a-copy\n",
      "  home_workout['interest'] = home_workout['interest'].astype(int)\n"
     ]
    }
   ],
   "source": [
    "home_workout['interest'] = home_workout['interest'].astype(int)"
   ]
  },
  {
   "cell_type": "code",
   "execution_count": 187,
   "id": "87c09fb2",
   "metadata": {},
   "outputs": [
    {
     "data": {
      "image/png": "[encoded data removed]",
      "text/plain": [
       "<Figure size 1000x600 with 1 Axes>"
      ]
     },
     "metadata": {},
     "output_type": "display_data"
    }
   ],
   "source": [
    "plt.figure(figsize = (10,6))\n",
    "sns.barplot(data = home_workout, x = 'country', y = 'interest')\n",
    "plt.title('Top home workout countries')\n",
    "plt.tight_layout()\n",
    "plt.show()"
   ]
  },
  {
   "cell_type": "code",
   "execution_count": 188,
   "id": "288e3eba",
   "metadata": {},
   "outputs": [
    {
     "data": {
      "text/plain": [
       "'Philippines'"
      ]
     },
     "execution_count": 188,
     "metadata": {},
     "output_type": "execute_result"
    }
   ],
   "source": [
    "home_workout.groupby('country')['interest'].sum().sort_values(ascending = False).index[0]"
   ]
  },
  {
   "cell_type": "code",
   "execution_count": 189,
   "id": "08d58cdd",
   "metadata": {},
   "outputs": [],
   "source": [
    "top_country_homeworkout = 'Philippines'"
   ]
  },
  {
   "cell_type": "markdown",
   "id": "a58b51d0",
   "metadata": {},
   "source": [
    "###### Philippines has the highest interest generated regarding home workout "
   ]
  },
  {
   "cell_type": "code",
   "execution_count": null,
   "id": "c84ace3f",
   "metadata": {},
   "outputs": [],
   "source": []
  },
  {
   "cell_type": "markdown",
   "id": "57312e55",
   "metadata": {},
   "source": [
    "### 5- FINDING TOP INTEREST CATEGORY IN SINGAPORE\n",
    "###  (WORKOUT NOT INCLUDED)"
   ]
  },
  {
   "cell_type": "code",
   "execution_count": 190,
   "id": "5321aaee",
   "metadata": {},
   "outputs": [],
   "source": [
    "# Assess the split of interest by country and category"
   ]
  },
  {
   "cell_type": "code",
   "execution_count": 191,
   "id": "d098e00b",
   "metadata": {},
   "outputs": [
    {
     "data": {
      "text/html": [
       "<div>\n",
       "<style scoped>\n",
       "    .dataframe tbody tr th:only-of-type {\n",
       "        vertical-align: middle;\n",
       "    }\n",
       "\n",
       "    .dataframe tbody tr th {\n",
       "        vertical-align: top;\n",
       "    }\n",
       "\n",
       "    .dataframe thead th {\n",
       "        text-align: right;\n",
       "    }\n",
       "</style>\n",
       "<table border=\"1\" class=\"dataframe\">\n",
       "  <thead>\n",
       "    <tr style=\"text-align: right;\">\n",
       "      <th></th>\n",
       "      <th>Week</th>\n",
       "      <th>yoga: (Singapore)</th>\n",
       "      <th>workout: (Singapore)</th>\n",
       "      <th>zumba: (Singapore)</th>\n",
       "      <th>weight training: (Singapore)</th>\n",
       "      <th>weight loss: (Singapore)</th>\n",
       "    </tr>\n",
       "  </thead>\n",
       "  <tbody>\n",
       "    <tr>\n",
       "      <th>0</th>\n",
       "      <td>2018-03-18</td>\n",
       "      <td>9</td>\n",
       "      <td>22</td>\n",
       "      <td>7</td>\n",
       "      <td>&lt;1</td>\n",
       "      <td>3</td>\n",
       "    </tr>\n",
       "    <tr>\n",
       "      <th>1</th>\n",
       "      <td>2018-03-25</td>\n",
       "      <td>10</td>\n",
       "      <td>21</td>\n",
       "      <td>6</td>\n",
       "      <td>0</td>\n",
       "      <td>3</td>\n",
       "    </tr>\n",
       "    <tr>\n",
       "      <th>2</th>\n",
       "      <td>2018-04-01</td>\n",
       "      <td>9</td>\n",
       "      <td>24</td>\n",
       "      <td>5</td>\n",
       "      <td>0</td>\n",
       "      <td>3</td>\n",
       "    </tr>\n",
       "    <tr>\n",
       "      <th>3</th>\n",
       "      <td>2018-04-08</td>\n",
       "      <td>8</td>\n",
       "      <td>23</td>\n",
       "      <td>6</td>\n",
       "      <td>&lt;1</td>\n",
       "      <td>4</td>\n",
       "    </tr>\n",
       "    <tr>\n",
       "      <th>4</th>\n",
       "      <td>2018-04-15</td>\n",
       "      <td>9</td>\n",
       "      <td>24</td>\n",
       "      <td>7</td>\n",
       "      <td>&lt;1</td>\n",
       "      <td>3</td>\n",
       "    </tr>\n",
       "    <tr>\n",
       "      <th>...</th>\n",
       "      <td>...</td>\n",
       "      <td>...</td>\n",
       "      <td>...</td>\n",
       "      <td>...</td>\n",
       "      <td>...</td>\n",
       "      <td>...</td>\n",
       "    </tr>\n",
       "    <tr>\n",
       "      <th>256</th>\n",
       "      <td>2023-02-12</td>\n",
       "      <td>10</td>\n",
       "      <td>27</td>\n",
       "      <td>5</td>\n",
       "      <td>0</td>\n",
       "      <td>2</td>\n",
       "    </tr>\n",
       "    <tr>\n",
       "      <th>257</th>\n",
       "      <td>2023-02-19</td>\n",
       "      <td>11</td>\n",
       "      <td>29</td>\n",
       "      <td>4</td>\n",
       "      <td>&lt;1</td>\n",
       "      <td>4</td>\n",
       "    </tr>\n",
       "    <tr>\n",
       "      <th>258</th>\n",
       "      <td>2023-02-26</td>\n",
       "      <td>12</td>\n",
       "      <td>31</td>\n",
       "      <td>5</td>\n",
       "      <td>0</td>\n",
       "      <td>3</td>\n",
       "    </tr>\n",
       "    <tr>\n",
       "      <th>259</th>\n",
       "      <td>2023-03-05</td>\n",
       "      <td>11</td>\n",
       "      <td>29</td>\n",
       "      <td>3</td>\n",
       "      <td>0</td>\n",
       "      <td>4</td>\n",
       "    </tr>\n",
       "    <tr>\n",
       "      <th>260</th>\n",
       "      <td>2023-03-12</td>\n",
       "      <td>8</td>\n",
       "      <td>27</td>\n",
       "      <td>3</td>\n",
       "      <td>1</td>\n",
       "      <td>4</td>\n",
       "    </tr>\n",
       "  </tbody>\n",
       "</table>\n",
       "<p>261 rows × 6 columns</p>\n",
       "</div>"
      ],
      "text/plain": [
       "           Week  yoga: (Singapore)  workout: (Singapore)  zumba: (Singapore)  \\\n",
       "0    2018-03-18                  9                    22                   7   \n",
       "1    2018-03-25                 10                    21                   6   \n",
       "2    2018-04-01                  9                    24                   5   \n",
       "3    2018-04-08                  8                    23                   6   \n",
       "4    2018-04-15                  9                    24                   7   \n",
       "..          ...                ...                   ...                 ...   \n",
       "256  2023-02-12                 10                    27                   5   \n",
       "257  2023-02-19                 11                    29                   4   \n",
       "258  2023-02-26                 12                    31                   5   \n",
       "259  2023-03-05                 11                    29                   3   \n",
       "260  2023-03-12                  8                    27                   3   \n",
       "\n",
       "    weight training: (Singapore)  weight loss: (Singapore)  \n",
       "0                             <1                         3  \n",
       "1                              0                         3  \n",
       "2                              0                         3  \n",
       "3                             <1                         4  \n",
       "4                             <1                         3  \n",
       "..                           ...                       ...  \n",
       "256                            0                         2  \n",
       "257                           <1                         4  \n",
       "258                            0                         3  \n",
       "259                            0                         4  \n",
       "260                            1                         4  \n",
       "\n",
       "[261 rows x 6 columns]"
      ]
     },
     "execution_count": 191,
     "metadata": {},
     "output_type": "execute_result"
    }
   ],
   "source": [
    "sing = pd.read_csv('workout/yoga_zumba_sng.csv', header = 1 )\n",
    "sing"
   ]
  },
  {
   "cell_type": "code",
   "execution_count": 194,
   "id": "4331698d",
   "metadata": {},
   "outputs": [],
   "source": [
    "# filtering and correcting dtypes\n",
    "sing = sing[sing['weight training: (Singapore)'] != '<1'].copy()\n",
    "sing['weight training: (Singapore)'] = sing['weight training: (Singapore)'].astype(int)"
   ]
  },
  {
   "cell_type": "code",
   "execution_count": 195,
   "id": "375bcd25",
   "metadata": {},
   "outputs": [
    {
     "data": {
      "text/html": [
       "<div>\n",
       "<style scoped>\n",
       "    .dataframe tbody tr th:only-of-type {\n",
       "        vertical-align: middle;\n",
       "    }\n",
       "\n",
       "    .dataframe tbody tr th {\n",
       "        vertical-align: top;\n",
       "    }\n",
       "\n",
       "    .dataframe thead th {\n",
       "        text-align: right;\n",
       "    }\n",
       "</style>\n",
       "<table border=\"1\" class=\"dataframe\">\n",
       "  <thead>\n",
       "    <tr style=\"text-align: right;\">\n",
       "      <th></th>\n",
       "      <th>Week</th>\n",
       "      <th>yoga: (Singapore)</th>\n",
       "      <th>workout: (Singapore)</th>\n",
       "      <th>zumba: (Singapore)</th>\n",
       "      <th>weight training: (Singapore)</th>\n",
       "      <th>weight loss: (Singapore)</th>\n",
       "    </tr>\n",
       "  </thead>\n",
       "  <tbody>\n",
       "    <tr>\n",
       "      <th>1</th>\n",
       "      <td>2018-03-25</td>\n",
       "      <td>10</td>\n",
       "      <td>21</td>\n",
       "      <td>6</td>\n",
       "      <td>0</td>\n",
       "      <td>3</td>\n",
       "    </tr>\n",
       "    <tr>\n",
       "      <th>2</th>\n",
       "      <td>2018-04-01</td>\n",
       "      <td>9</td>\n",
       "      <td>24</td>\n",
       "      <td>5</td>\n",
       "      <td>0</td>\n",
       "      <td>3</td>\n",
       "    </tr>\n",
       "    <tr>\n",
       "      <th>6</th>\n",
       "      <td>2018-04-29</td>\n",
       "      <td>9</td>\n",
       "      <td>23</td>\n",
       "      <td>7</td>\n",
       "      <td>1</td>\n",
       "      <td>3</td>\n",
       "    </tr>\n",
       "    <tr>\n",
       "      <th>8</th>\n",
       "      <td>2018-05-13</td>\n",
       "      <td>9</td>\n",
       "      <td>20</td>\n",
       "      <td>6</td>\n",
       "      <td>0</td>\n",
       "      <td>3</td>\n",
       "    </tr>\n",
       "    <tr>\n",
       "      <th>9</th>\n",
       "      <td>2018-05-20</td>\n",
       "      <td>9</td>\n",
       "      <td>24</td>\n",
       "      <td>7</td>\n",
       "      <td>0</td>\n",
       "      <td>3</td>\n",
       "    </tr>\n",
       "  </tbody>\n",
       "</table>\n",
       "</div>"
      ],
      "text/plain": [
       "         Week  yoga: (Singapore)  workout: (Singapore)  zumba: (Singapore)  \\\n",
       "1  2018-03-25                 10                    21                   6   \n",
       "2  2018-04-01                  9                    24                   5   \n",
       "6  2018-04-29                  9                    23                   7   \n",
       "8  2018-05-13                  9                    20                   6   \n",
       "9  2018-05-20                  9                    24                   7   \n",
       "\n",
       "   weight training: (Singapore)  weight loss: (Singapore)  \n",
       "1                             0                         3  \n",
       "2                             0                         3  \n",
       "6                             1                         3  \n",
       "8                             0                         3  \n",
       "9                             0                         3  "
      ]
     },
     "execution_count": 195,
     "metadata": {},
     "output_type": "execute_result"
    }
   ],
   "source": [
    "sing.head()"
   ]
  },
  {
   "cell_type": "code",
   "execution_count": 196,
   "id": "a2ff1ebb",
   "metadata": {},
   "outputs": [],
   "source": [
    "sing = sing.drop('workout: (Singapore)', axis = 1)\n",
    "sing = sing.set_index('Week').stack().reset_index()\n",
    "sing.columns = ['week','category','interest']"
   ]
  },
  {
   "cell_type": "code",
   "execution_count": 197,
   "id": "b0a77cbf",
   "metadata": {},
   "outputs": [
    {
     "data": {
      "text/html": [
       "<div>\n",
       "<style scoped>\n",
       "    .dataframe tbody tr th:only-of-type {\n",
       "        vertical-align: middle;\n",
       "    }\n",
       "\n",
       "    .dataframe tbody tr th {\n",
       "        vertical-align: top;\n",
       "    }\n",
       "\n",
       "    .dataframe thead th {\n",
       "        text-align: right;\n",
       "    }\n",
       "</style>\n",
       "<table border=\"1\" class=\"dataframe\">\n",
       "  <thead>\n",
       "    <tr style=\"text-align: right;\">\n",
       "      <th></th>\n",
       "      <th>week</th>\n",
       "      <th>category</th>\n",
       "      <th>interest</th>\n",
       "    </tr>\n",
       "  </thead>\n",
       "  <tbody>\n",
       "    <tr>\n",
       "      <th>0</th>\n",
       "      <td>2018-03-25</td>\n",
       "      <td>yoga: (Singapore)</td>\n",
       "      <td>10</td>\n",
       "    </tr>\n",
       "    <tr>\n",
       "      <th>1</th>\n",
       "      <td>2018-03-25</td>\n",
       "      <td>zumba: (Singapore)</td>\n",
       "      <td>6</td>\n",
       "    </tr>\n",
       "    <tr>\n",
       "      <th>2</th>\n",
       "      <td>2018-03-25</td>\n",
       "      <td>weight training: (Singapore)</td>\n",
       "      <td>0</td>\n",
       "    </tr>\n",
       "    <tr>\n",
       "      <th>3</th>\n",
       "      <td>2018-03-25</td>\n",
       "      <td>weight loss: (Singapore)</td>\n",
       "      <td>3</td>\n",
       "    </tr>\n",
       "    <tr>\n",
       "      <th>4</th>\n",
       "      <td>2018-04-01</td>\n",
       "      <td>yoga: (Singapore)</td>\n",
       "      <td>9</td>\n",
       "    </tr>\n",
       "  </tbody>\n",
       "</table>\n",
       "</div>"
      ],
      "text/plain": [
       "         week                      category  interest\n",
       "0  2018-03-25             yoga: (Singapore)        10\n",
       "1  2018-03-25            zumba: (Singapore)         6\n",
       "2  2018-03-25  weight training: (Singapore)         0\n",
       "3  2018-03-25      weight loss: (Singapore)         3\n",
       "4  2018-04-01             yoga: (Singapore)         9"
      ]
     },
     "execution_count": 197,
     "metadata": {},
     "output_type": "execute_result"
    }
   ],
   "source": [
    "sing.head()"
   ]
  },
  {
   "cell_type": "code",
   "execution_count": 198,
   "id": "2e96f7aa",
   "metadata": {},
   "outputs": [
    {
     "data": {
      "text/html": [
       "<div>\n",
       "<style scoped>\n",
       "    .dataframe tbody tr th:only-of-type {\n",
       "        vertical-align: middle;\n",
       "    }\n",
       "\n",
       "    .dataframe tbody tr th {\n",
       "        vertical-align: top;\n",
       "    }\n",
       "\n",
       "    .dataframe thead th {\n",
       "        text-align: right;\n",
       "    }\n",
       "</style>\n",
       "<table border=\"1\" class=\"dataframe\">\n",
       "  <thead>\n",
       "    <tr style=\"text-align: right;\">\n",
       "      <th></th>\n",
       "      <th>category</th>\n",
       "      <th>interest</th>\n",
       "    </tr>\n",
       "  </thead>\n",
       "  <tbody>\n",
       "    <tr>\n",
       "      <th>0</th>\n",
       "      <td>yoga: (Singapore)</td>\n",
       "      <td>2678</td>\n",
       "    </tr>\n",
       "    <tr>\n",
       "      <th>1</th>\n",
       "      <td>zumba: (Singapore)</td>\n",
       "      <td>1751</td>\n",
       "    </tr>\n",
       "    <tr>\n",
       "      <th>2</th>\n",
       "      <td>weight loss: (Singapore)</td>\n",
       "      <td>697</td>\n",
       "    </tr>\n",
       "    <tr>\n",
       "      <th>3</th>\n",
       "      <td>weight training: (Singapore)</td>\n",
       "      <td>70</td>\n",
       "    </tr>\n",
       "  </tbody>\n",
       "</table>\n",
       "</div>"
      ],
      "text/plain": [
       "                       category  interest\n",
       "0             yoga: (Singapore)      2678\n",
       "1            zumba: (Singapore)      1751\n",
       "2      weight loss: (Singapore)       697\n",
       "3  weight training: (Singapore)        70"
      ]
     },
     "execution_count": 198,
     "metadata": {},
     "output_type": "execute_result"
    }
   ],
   "source": [
    "cat_sing = sing.groupby('category')['interest'].sum().sort_values(ascending = False).reset_index()\n",
    "cat_sing"
   ]
  },
  {
   "cell_type": "code",
   "execution_count": 199,
   "id": "3404acc3",
   "metadata": {},
   "outputs": [
    {
     "data": {
      "image/png": "[encoded data removed]",
      "text/plain": [
       "<Figure size 1000x600 with 1 Axes>"
      ]
     },
     "metadata": {},
     "output_type": "display_data"
    }
   ],
   "source": [
    "plt.figure(figsize = (10,6))\n",
    "sns.barplot(data = cat_sing, x = 'category', y = 'interest')\n",
    "plt.title(\"Interest in Fitness Activities in Singapore\" )\n",
    "plt.show()"
   ]
  },
  {
   "cell_type": "code",
   "execution_count": 200,
   "id": "e56bfc3d",
   "metadata": {},
   "outputs": [
    {
     "data": {
      "text/plain": [
       "'yoga: (Singapore)'"
      ]
     },
     "execution_count": 200,
     "metadata": {},
     "output_type": "execute_result"
    }
   ],
   "source": [
    "top_category_in_sing = cat_sing[cat_sing['interest'] == cat_sing['interest'].max() ]['category'].values[0]\n",
    "top_category_in_sing"
   ]
  },
  {
   "cell_type": "markdown",
   "id": "a1cbd6b1",
   "metadata": {},
   "source": [
    "###### we find that yoga generated the highest interest in Singapore"
   ]
  },
  {
   "cell_type": "code",
   "execution_count": null,
   "id": "e468977c",
   "metadata": {},
   "outputs": [],
   "source": []
  },
  {
   "cell_type": "markdown",
   "id": "75b521bf",
   "metadata": {},
   "source": [
    "### 6- FINDING TOP INTEREST CATEGORY IN PHILIPPINES\n",
    "###  (WORKOUT NOT INCLUDED)"
   ]
  },
  {
   "cell_type": "code",
   "execution_count": 203,
   "id": "a4e5a625",
   "metadata": {},
   "outputs": [
    {
     "data": {
      "text/html": [
       "<div>\n",
       "<style scoped>\n",
       "    .dataframe tbody tr th:only-of-type {\n",
       "        vertical-align: middle;\n",
       "    }\n",
       "\n",
       "    .dataframe tbody tr th {\n",
       "        vertical-align: top;\n",
       "    }\n",
       "\n",
       "    .dataframe thead th {\n",
       "        text-align: right;\n",
       "    }\n",
       "</style>\n",
       "<table border=\"1\" class=\"dataframe\">\n",
       "  <thead>\n",
       "    <tr style=\"text-align: right;\">\n",
       "      <th></th>\n",
       "      <th>Week</th>\n",
       "      <th>yoga: (Philippines)</th>\n",
       "      <th>workout: (Philippines)</th>\n",
       "      <th>zumba: (Philippines)</th>\n",
       "      <th>bodybuilding: (Philippines)</th>\n",
       "      <th>weight loss: (Philippines)</th>\n",
       "    </tr>\n",
       "  </thead>\n",
       "  <tbody>\n",
       "    <tr>\n",
       "      <th>0</th>\n",
       "      <td>2018-03-18</td>\n",
       "      <td>6</td>\n",
       "      <td>30</td>\n",
       "      <td>39</td>\n",
       "      <td>1</td>\n",
       "      <td>3</td>\n",
       "    </tr>\n",
       "    <tr>\n",
       "      <th>1</th>\n",
       "      <td>2018-03-25</td>\n",
       "      <td>6</td>\n",
       "      <td>28</td>\n",
       "      <td>35</td>\n",
       "      <td>1</td>\n",
       "      <td>3</td>\n",
       "    </tr>\n",
       "    <tr>\n",
       "      <th>2</th>\n",
       "      <td>2018-04-01</td>\n",
       "      <td>6</td>\n",
       "      <td>28</td>\n",
       "      <td>33</td>\n",
       "      <td>1</td>\n",
       "      <td>3</td>\n",
       "    </tr>\n",
       "    <tr>\n",
       "      <th>3</th>\n",
       "      <td>2018-04-08</td>\n",
       "      <td>6</td>\n",
       "      <td>29</td>\n",
       "      <td>36</td>\n",
       "      <td>1</td>\n",
       "      <td>3</td>\n",
       "    </tr>\n",
       "    <tr>\n",
       "      <th>4</th>\n",
       "      <td>2018-04-15</td>\n",
       "      <td>6</td>\n",
       "      <td>28</td>\n",
       "      <td>36</td>\n",
       "      <td>1</td>\n",
       "      <td>3</td>\n",
       "    </tr>\n",
       "    <tr>\n",
       "      <th>...</th>\n",
       "      <td>...</td>\n",
       "      <td>...</td>\n",
       "      <td>...</td>\n",
       "      <td>...</td>\n",
       "      <td>...</td>\n",
       "      <td>...</td>\n",
       "    </tr>\n",
       "    <tr>\n",
       "      <th>256</th>\n",
       "      <td>2023-02-12</td>\n",
       "      <td>4</td>\n",
       "      <td>30</td>\n",
       "      <td>37</td>\n",
       "      <td>&lt;1</td>\n",
       "      <td>3</td>\n",
       "    </tr>\n",
       "    <tr>\n",
       "      <th>257</th>\n",
       "      <td>2023-02-19</td>\n",
       "      <td>4</td>\n",
       "      <td>30</td>\n",
       "      <td>37</td>\n",
       "      <td>&lt;1</td>\n",
       "      <td>3</td>\n",
       "    </tr>\n",
       "    <tr>\n",
       "      <th>258</th>\n",
       "      <td>2023-02-26</td>\n",
       "      <td>4</td>\n",
       "      <td>29</td>\n",
       "      <td>41</td>\n",
       "      <td>&lt;1</td>\n",
       "      <td>3</td>\n",
       "    </tr>\n",
       "    <tr>\n",
       "      <th>259</th>\n",
       "      <td>2023-03-05</td>\n",
       "      <td>4</td>\n",
       "      <td>34</td>\n",
       "      <td>45</td>\n",
       "      <td>&lt;1</td>\n",
       "      <td>3</td>\n",
       "    </tr>\n",
       "    <tr>\n",
       "      <th>260</th>\n",
       "      <td>2023-03-12</td>\n",
       "      <td>4</td>\n",
       "      <td>32</td>\n",
       "      <td>44</td>\n",
       "      <td>&lt;1</td>\n",
       "      <td>3</td>\n",
       "    </tr>\n",
       "  </tbody>\n",
       "</table>\n",
       "<p>261 rows × 6 columns</p>\n",
       "</div>"
      ],
      "text/plain": [
       "           Week yoga: (Philippines)  workout: (Philippines)  \\\n",
       "0    2018-03-18                   6                      30   \n",
       "1    2018-03-25                   6                      28   \n",
       "2    2018-04-01                   6                      28   \n",
       "3    2018-04-08                   6                      29   \n",
       "4    2018-04-15                   6                      28   \n",
       "..          ...                 ...                     ...   \n",
       "256  2023-02-12                   4                      30   \n",
       "257  2023-02-19                   4                      30   \n",
       "258  2023-02-26                   4                      29   \n",
       "259  2023-03-05                   4                      34   \n",
       "260  2023-03-12                   4                      32   \n",
       "\n",
       "     zumba: (Philippines) bodybuilding: (Philippines)  \\\n",
       "0                      39                           1   \n",
       "1                      35                           1   \n",
       "2                      33                           1   \n",
       "3                      36                           1   \n",
       "4                      36                           1   \n",
       "..                    ...                         ...   \n",
       "256                    37                          <1   \n",
       "257                    37                          <1   \n",
       "258                    41                          <1   \n",
       "259                    45                          <1   \n",
       "260                    44                          <1   \n",
       "\n",
       "     weight loss: (Philippines)  \n",
       "0                             3  \n",
       "1                             3  \n",
       "2                             3  \n",
       "3                             3  \n",
       "4                             3  \n",
       "..                          ...  \n",
       "256                           3  \n",
       "257                           3  \n",
       "258                           3  \n",
       "259                           3  \n",
       "260                           3  \n",
       "\n",
       "[261 rows x 6 columns]"
      ]
     },
     "execution_count": 203,
     "metadata": {},
     "output_type": "execute_result"
    }
   ],
   "source": [
    "phil = pd.read_csv('workout/yoga_zumba_phl.csv', header  =1 )\n",
    "phil"
   ]
  },
  {
   "cell_type": "code",
   "execution_count": 204,
   "id": "4d903213",
   "metadata": {},
   "outputs": [],
   "source": [
    "# filtering\n",
    "phil = phil[(phil['yoga: (Philippines)'] != '<1') & (phil['bodybuilding: (Philippines)'] != '<1')].copy()"
   ]
  },
  {
   "cell_type": "code",
   "execution_count": 205,
   "id": "a2eec3ed",
   "metadata": {},
   "outputs": [],
   "source": [
    "# Correcting dtypes\n",
    "phil['yoga: (Philippines)'] = phil['yoga: (Philippines)'].astype(int)\n",
    "phil['bodybuilding: (Philippines)'] = phil['bodybuilding: (Philippines)'].astype(int)"
   ]
  },
  {
   "cell_type": "code",
   "execution_count": 206,
   "id": "13e55b9d",
   "metadata": {},
   "outputs": [],
   "source": [
    "phil = phil.drop('workout: (Philippines)' ,axis = 1)\n",
    "phil = phil.set_index('Week').stack().reset_index()\n",
    "phil.columns = ['week','category','interest']"
   ]
  },
  {
   "cell_type": "code",
   "execution_count": 207,
   "id": "dcea148b",
   "metadata": {},
   "outputs": [
    {
     "data": {
      "text/html": [
       "<div>\n",
       "<style scoped>\n",
       "    .dataframe tbody tr th:only-of-type {\n",
       "        vertical-align: middle;\n",
       "    }\n",
       "\n",
       "    .dataframe tbody tr th {\n",
       "        vertical-align: top;\n",
       "    }\n",
       "\n",
       "    .dataframe thead th {\n",
       "        text-align: right;\n",
       "    }\n",
       "</style>\n",
       "<table border=\"1\" class=\"dataframe\">\n",
       "  <thead>\n",
       "    <tr style=\"text-align: right;\">\n",
       "      <th></th>\n",
       "      <th>week</th>\n",
       "      <th>category</th>\n",
       "      <th>interest</th>\n",
       "    </tr>\n",
       "  </thead>\n",
       "  <tbody>\n",
       "    <tr>\n",
       "      <th>0</th>\n",
       "      <td>2018-03-18</td>\n",
       "      <td>yoga: (Philippines)</td>\n",
       "      <td>6</td>\n",
       "    </tr>\n",
       "    <tr>\n",
       "      <th>1</th>\n",
       "      <td>2018-03-18</td>\n",
       "      <td>zumba: (Philippines)</td>\n",
       "      <td>39</td>\n",
       "    </tr>\n",
       "    <tr>\n",
       "      <th>2</th>\n",
       "      <td>2018-03-18</td>\n",
       "      <td>bodybuilding: (Philippines)</td>\n",
       "      <td>1</td>\n",
       "    </tr>\n",
       "    <tr>\n",
       "      <th>3</th>\n",
       "      <td>2018-03-18</td>\n",
       "      <td>weight loss: (Philippines)</td>\n",
       "      <td>3</td>\n",
       "    </tr>\n",
       "    <tr>\n",
       "      <th>4</th>\n",
       "      <td>2018-03-25</td>\n",
       "      <td>yoga: (Philippines)</td>\n",
       "      <td>6</td>\n",
       "    </tr>\n",
       "    <tr>\n",
       "      <th>...</th>\n",
       "      <td>...</td>\n",
       "      <td>...</td>\n",
       "      <td>...</td>\n",
       "    </tr>\n",
       "    <tr>\n",
       "      <th>423</th>\n",
       "      <td>2022-02-20</td>\n",
       "      <td>weight loss: (Philippines)</td>\n",
       "      <td>2</td>\n",
       "    </tr>\n",
       "    <tr>\n",
       "      <th>424</th>\n",
       "      <td>2022-04-17</td>\n",
       "      <td>yoga: (Philippines)</td>\n",
       "      <td>4</td>\n",
       "    </tr>\n",
       "    <tr>\n",
       "      <th>425</th>\n",
       "      <td>2022-04-17</td>\n",
       "      <td>zumba: (Philippines)</td>\n",
       "      <td>34</td>\n",
       "    </tr>\n",
       "    <tr>\n",
       "      <th>426</th>\n",
       "      <td>2022-04-17</td>\n",
       "      <td>bodybuilding: (Philippines)</td>\n",
       "      <td>0</td>\n",
       "    </tr>\n",
       "    <tr>\n",
       "      <th>427</th>\n",
       "      <td>2022-04-17</td>\n",
       "      <td>weight loss: (Philippines)</td>\n",
       "      <td>2</td>\n",
       "    </tr>\n",
       "  </tbody>\n",
       "</table>\n",
       "<p>428 rows × 3 columns</p>\n",
       "</div>"
      ],
      "text/plain": [
       "           week                     category  interest\n",
       "0    2018-03-18          yoga: (Philippines)         6\n",
       "1    2018-03-18         zumba: (Philippines)        39\n",
       "2    2018-03-18  bodybuilding: (Philippines)         1\n",
       "3    2018-03-18   weight loss: (Philippines)         3\n",
       "4    2018-03-25          yoga: (Philippines)         6\n",
       "..          ...                          ...       ...\n",
       "423  2022-02-20   weight loss: (Philippines)         2\n",
       "424  2022-04-17          yoga: (Philippines)         4\n",
       "425  2022-04-17         zumba: (Philippines)        34\n",
       "426  2022-04-17  bodybuilding: (Philippines)         0\n",
       "427  2022-04-17   weight loss: (Philippines)         2\n",
       "\n",
       "[428 rows x 3 columns]"
      ]
     },
     "execution_count": 207,
     "metadata": {},
     "output_type": "execute_result"
    }
   ],
   "source": [
    "phil"
   ]
  },
  {
   "cell_type": "code",
   "execution_count": 208,
   "id": "b82d81fe",
   "metadata": {},
   "outputs": [
    {
     "data": {
      "text/html": [
       "<div>\n",
       "<style scoped>\n",
       "    .dataframe tbody tr th:only-of-type {\n",
       "        vertical-align: middle;\n",
       "    }\n",
       "\n",
       "    .dataframe tbody tr th {\n",
       "        vertical-align: top;\n",
       "    }\n",
       "\n",
       "    .dataframe thead th {\n",
       "        text-align: right;\n",
       "    }\n",
       "</style>\n",
       "<table border=\"1\" class=\"dataframe\">\n",
       "  <thead>\n",
       "    <tr style=\"text-align: right;\">\n",
       "      <th></th>\n",
       "      <th>category</th>\n",
       "      <th>interest</th>\n",
       "    </tr>\n",
       "  </thead>\n",
       "  <tbody>\n",
       "    <tr>\n",
       "      <th>0</th>\n",
       "      <td>zumba: (Philippines)</td>\n",
       "      <td>4886</td>\n",
       "    </tr>\n",
       "    <tr>\n",
       "      <th>1</th>\n",
       "      <td>yoga: (Philippines)</td>\n",
       "      <td>455</td>\n",
       "    </tr>\n",
       "    <tr>\n",
       "      <th>2</th>\n",
       "      <td>weight loss: (Philippines)</td>\n",
       "      <td>310</td>\n",
       "    </tr>\n",
       "    <tr>\n",
       "      <th>3</th>\n",
       "      <td>bodybuilding: (Philippines)</td>\n",
       "      <td>78</td>\n",
       "    </tr>\n",
       "  </tbody>\n",
       "</table>\n",
       "</div>"
      ],
      "text/plain": [
       "                      category  interest\n",
       "0         zumba: (Philippines)      4886\n",
       "1          yoga: (Philippines)       455\n",
       "2   weight loss: (Philippines)       310\n",
       "3  bodybuilding: (Philippines)        78"
      ]
     },
     "execution_count": 208,
     "metadata": {},
     "output_type": "execute_result"
    }
   ],
   "source": [
    "cat_phil = phil.groupby('category')['interest'].sum().sort_values(ascending = False).reset_index()\n",
    "cat_phil"
   ]
  },
  {
   "cell_type": "code",
   "execution_count": 209,
   "id": "9e3d23b4",
   "metadata": {},
   "outputs": [
    {
     "data": {
      "image/png": "[encoded data removed]",
      "text/plain": [
       "<Figure size 1000x600 with 1 Axes>"
      ]
     },
     "metadata": {},
     "output_type": "display_data"
    }
   ],
   "source": [
    "plt.figure(figsize = (10,6))\n",
    "sns.barplot(data = cat_phil, x = 'category', y = 'interest')\n",
    "plt.title(\"Interest in Fitness Activities in Philippines\" )\n",
    "plt.show()"
   ]
  },
  {
   "cell_type": "code",
   "execution_count": 210,
   "id": "b9b643be",
   "metadata": {},
   "outputs": [],
   "source": [
    "top_cat_Philippines = 'zumba: (Philippines)'"
   ]
  },
  {
   "cell_type": "markdown",
   "id": "61145ea5",
   "metadata": {},
   "source": [
    "###### we find that zumba generated the highest interest in Philippines"
   ]
  },
  {
   "cell_type": "code",
   "execution_count": null,
   "id": "ec2ebea8",
   "metadata": {},
   "outputs": [],
   "source": []
  }
 ],
 "metadata": {
  "kernelspec": {
   "display_name": "Python 3 (ipykernel)",
   "language": "python",
   "name": "python3"
  },
  "language_info": {
   "codemirror_mode": {
    "name": "ipython",
    "version": 3
   },
   "file_extension": ".py",
   "mimetype": "text/x-python",
   "name": "python",
   "nbconvert_exporter": "python",
   "pygments_lexer": "ipython3",
   "version": "3.10.9"
  }
 },
 "nbformat": 4,
 "nbformat_minor": 5
}
